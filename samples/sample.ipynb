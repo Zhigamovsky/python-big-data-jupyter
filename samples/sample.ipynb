{
 "cells": [
  {
   "cell_type": "code",
   "execution_count": 1,
   "id": "056ff0d8-d2e6-4cd4-bd1f-2e37f3b42d6f",
   "metadata": {
    "tags": []
   },
   "outputs": [],
   "source": [
    "import os\n",
    "import numpy as np\n",
    "import pandas as pd\n",
    "import json\n",
    "import matplotlib.pyplot as plt\n",
    "from IPython.display import display, HTML"
   ]
  },
  {
   "attachments": {},
   "cell_type": "markdown",
   "id": "9a4d9728-52d1-40b0-a59b-3dc72cf464e3",
   "metadata": {},
   "source": [
    "3 Країни згідно мого варіанту (4 - Жигамовський Нікіта)"
   ]
  },
  {
   "cell_type": "code",
   "execution_count": 98,
   "id": "cb9129b9-80af-42ec-84a2-e4bb0791b18e",
   "metadata": {
    "tags": []
   },
   "outputs": [
    {
     "data": {
      "text/html": [
       "<div>\n",
       "<style scoped>\n",
       "    .dataframe tbody tr th:only-of-type {\n",
       "        vertical-align: middle;\n",
       "    }\n",
       "\n",
       "    .dataframe tbody tr th {\n",
       "        vertical-align: top;\n",
       "    }\n",
       "\n",
       "    .dataframe thead th {\n",
       "        text-align: right;\n",
       "    }\n",
       "</style>\n",
       "<table border=\"1\" class=\"dataframe\">\n",
       "  <thead>\n",
       "    <tr style=\"text-align: right;\">\n",
       "      <th></th>\n",
       "      <th>Країна 1</th>\n",
       "      <th>Країна 2</th>\n",
       "      <th>Країна 3</th>\n",
       "    </tr>\n",
       "  </thead>\n",
       "  <tbody>\n",
       "    <tr>\n",
       "      <th>Аніщенко Ігор</th>\n",
       "      <td>Lithuania</td>\n",
       "      <td>Niger</td>\n",
       "      <td>United Kingdom</td>\n",
       "    </tr>\n",
       "    <tr>\n",
       "      <th>Димов Максим</th>\n",
       "      <td>Belarus</td>\n",
       "      <td>Honduras</td>\n",
       "      <td>Curacao</td>\n",
       "    </tr>\n",
       "    <tr>\n",
       "      <th>Єрмоленко Назар</th>\n",
       "      <td>Chile</td>\n",
       "      <td>New Zealand</td>\n",
       "      <td>Netherlands</td>\n",
       "    </tr>\n",
       "    <tr>\n",
       "      <th>Жигамовський Нікіта</th>\n",
       "      <td>South Sudan</td>\n",
       "      <td>Mexico</td>\n",
       "      <td>China</td>\n",
       "    </tr>\n",
       "    <tr>\n",
       "      <th>Кравченко Тетяна</th>\n",
       "      <td>Spain</td>\n",
       "      <td>Bangladesh</td>\n",
       "      <td>Iceland</td>\n",
       "    </tr>\n",
       "    <tr>\n",
       "      <th>Марченко Ігор</th>\n",
       "      <td>Bahrain</td>\n",
       "      <td>Belarus</td>\n",
       "      <td>Ukraine</td>\n",
       "    </tr>\n",
       "    <tr>\n",
       "      <th>Нестеров Олег</th>\n",
       "      <td>Suriname</td>\n",
       "      <td>Austria</td>\n",
       "      <td>Uruguay</td>\n",
       "    </tr>\n",
       "    <tr>\n",
       "      <th>Пороскун Олена</th>\n",
       "      <td>Bermuda</td>\n",
       "      <td>France</td>\n",
       "      <td>Panama</td>\n",
       "    </tr>\n",
       "    <tr>\n",
       "      <th>Прокопенко Микита</th>\n",
       "      <td>Ethiopia</td>\n",
       "      <td>Cyprus</td>\n",
       "      <td>Equatorial Guinea</td>\n",
       "    </tr>\n",
       "    <tr>\n",
       "      <th>Самілик Антон</th>\n",
       "      <td>Nicaragua</td>\n",
       "      <td>British Virgin Islands</td>\n",
       "      <td>Sierra Leone</td>\n",
       "    </tr>\n",
       "    <tr>\n",
       "      <th>Сумцов Олександр</th>\n",
       "      <td>Switzerland</td>\n",
       "      <td>Somalia</td>\n",
       "      <td>Gabon</td>\n",
       "    </tr>\n",
       "    <tr>\n",
       "      <th>Фомін Кирило</th>\n",
       "      <td>Luxembourg</td>\n",
       "      <td>Armenia</td>\n",
       "      <td>Cuba</td>\n",
       "    </tr>\n",
       "    <tr>\n",
       "      <th>Харченко Кирило</th>\n",
       "      <td>India</td>\n",
       "      <td>Yemen</td>\n",
       "      <td>Trinidad and Tobago</td>\n",
       "    </tr>\n",
       "    <tr>\n",
       "      <th>Хомутенко Ігор</th>\n",
       "      <td>Sudan</td>\n",
       "      <td>Antigua and Barbuda</td>\n",
       "      <td>Congo</td>\n",
       "    </tr>\n",
       "    <tr>\n",
       "      <th>Чернущенко Роман</th>\n",
       "      <td>Puerto Rico</td>\n",
       "      <td>Nicaragua</td>\n",
       "      <td>Belgium</td>\n",
       "    </tr>\n",
       "    <tr>\n",
       "      <th>Чопов Андрій</th>\n",
       "      <td>Malta</td>\n",
       "      <td>Ireland</td>\n",
       "      <td>Norway</td>\n",
       "    </tr>\n",
       "    <tr>\n",
       "      <th>Чухно Віра</th>\n",
       "      <td>Malaysia</td>\n",
       "      <td>Poland</td>\n",
       "      <td>Rwanda</td>\n",
       "    </tr>\n",
       "    <tr>\n",
       "      <th>Янченко Ольга</th>\n",
       "      <td>Australia</td>\n",
       "      <td>Cambodia</td>\n",
       "      <td>Indonesia</td>\n",
       "    </tr>\n",
       "    <tr>\n",
       "      <th>NaN</th>\n",
       "      <td>NaN</td>\n",
       "      <td>NaN</td>\n",
       "      <td>NaN</td>\n",
       "    </tr>\n",
       "    <tr>\n",
       "      <th>NaN</th>\n",
       "      <td>Norway</td>\n",
       "      <td>United Kingdom</td>\n",
       "      <td>Brazil</td>\n",
       "    </tr>\n",
       "    <tr>\n",
       "      <th>NaN</th>\n",
       "      <td>Fiji</td>\n",
       "      <td>Netherlands</td>\n",
       "      <td>Yemen</td>\n",
       "    </tr>\n",
       "  </tbody>\n",
       "</table>\n",
       "</div>"
      ],
      "text/plain": [
       "                        Країна 1                Країна 2             Країна 3\n",
       "Аніщенко Ігор          Lithuania                   Niger       United Kingdom\n",
       "Димов Максим             Belarus                Honduras              Curacao\n",
       "Єрмоленко Назар            Chile             New Zealand          Netherlands\n",
       "Жигамовський Нікіта  South Sudan                  Mexico                China\n",
       "Кравченко Тетяна           Spain              Bangladesh              Iceland\n",
       "Марченко Ігор            Bahrain                 Belarus              Ukraine\n",
       "Нестеров Олег           Suriname                 Austria              Uruguay\n",
       "Пороскун Олена           Bermuda                  France               Panama\n",
       "Прокопенко Микита       Ethiopia                  Cyprus    Equatorial Guinea\n",
       "Самілик Антон          Nicaragua  British Virgin Islands         Sierra Leone\n",
       "Сумцов Олександр     Switzerland                 Somalia                Gabon\n",
       "Фомін Кирило          Luxembourg                 Armenia                 Cuba\n",
       "Харченко Кирило            India                   Yemen  Trinidad and Tobago\n",
       "Хомутенко Ігор             Sudan     Antigua and Barbuda                Congo\n",
       "Чернущенко Роман     Puerto Rico               Nicaragua              Belgium\n",
       "Чопов Андрій               Malta                 Ireland               Norway\n",
       "Чухно Віра              Malaysia                  Poland               Rwanda\n",
       "Янченко Ольга          Australia                Cambodia            Indonesia\n",
       "NaN                          NaN                     NaN                  NaN\n",
       "NaN                       Norway          United Kingdom               Brazil\n",
       "NaN                         Fiji             Netherlands                Yemen"
      ]
     },
     "execution_count": 98,
     "metadata": {},
     "output_type": "execute_result"
    }
   ],
   "source": [
    "names_countries = pd.read_csv('../tasks.csv', header=0, names=['Країна 1', 'Країна 2', 'Країна 3'])\n",
    "names_countries"
   ]
  },
  {
   "cell_type": "code",
   "execution_count": 6,
   "id": "3b91a979-f71e-47da-8c4a-55b46f814fe8",
   "metadata": {
    "tags": []
   },
   "outputs": [
    {
     "data": {
      "text/plain": [
       "['South Sudan', 'Mexico', 'China']"
      ]
     },
     "execution_count": 6,
     "metadata": {},
     "output_type": "execute_result"
    }
   ],
   "source": [
    "names_countries = names_countries.loc['Жигамовський Нікіта']\n",
    "filter_country = names_countries.values\n",
    "filter_country = [f for f in filter_country]\n",
    "filter_country"
   ]
  },
  {
   "attachments": {},
   "cell_type": "markdown",
   "id": "2eaecec0-a634-4376-ab91-6ab1200fdcd1",
   "metadata": {
    "tags": []
   },
   "source": [
    "### Task 1 Популяція за інтервал часу 1960-2020"
   ]
  },
  {
   "cell_type": "code",
   "execution_count": 7,
   "id": "8e03725f-9d51-48d3-818b-db2cc6269745",
   "metadata": {
    "tags": []
   },
   "outputs": [
    {
     "name": "stdout",
     "output_type": "stream",
     "text": [
      "['population.csv', 'population.json', 'population_pandas.xlsx']\n"
     ]
    }
   ],
   "source": [
    "print(os.listdir('../src/population'))"
   ]
  },
  {
   "attachments": {},
   "cell_type": "markdown",
   "id": "47f19a61",
   "metadata": {},
   "source": [
    "Дані щодо всіх країн"
   ]
  },
  {
   "cell_type": "code",
   "execution_count": 99,
   "id": "92769bd0-ab6b-4b09-bcd3-c05acde88690",
   "metadata": {
    "tags": []
   },
   "outputs": [
    {
     "data": {
      "text/html": [
       "<div>\n",
       "<style scoped>\n",
       "    .dataframe tbody tr th:only-of-type {\n",
       "        vertical-align: middle;\n",
       "    }\n",
       "\n",
       "    .dataframe tbody tr th {\n",
       "        vertical-align: top;\n",
       "    }\n",
       "\n",
       "    .dataframe thead th {\n",
       "        text-align: right;\n",
       "    }\n",
       "</style>\n",
       "<table border=\"1\" class=\"dataframe\">\n",
       "  <thead>\n",
       "    <tr style=\"text-align: right;\">\n",
       "      <th></th>\n",
       "      <th>Country Name</th>\n",
       "      <th>Country Code</th>\n",
       "      <th>Year</th>\n",
       "      <th>Value</th>\n",
       "    </tr>\n",
       "  </thead>\n",
       "  <tbody>\n",
       "    <tr>\n",
       "      <th>0</th>\n",
       "      <td>Arab World</td>\n",
       "      <td>ARB</td>\n",
       "      <td>1960</td>\n",
       "      <td>92197753</td>\n",
       "    </tr>\n",
       "    <tr>\n",
       "      <th>1</th>\n",
       "      <td>Arab World</td>\n",
       "      <td>ARB</td>\n",
       "      <td>1961</td>\n",
       "      <td>94724510</td>\n",
       "    </tr>\n",
       "    <tr>\n",
       "      <th>2</th>\n",
       "      <td>Arab World</td>\n",
       "      <td>ARB</td>\n",
       "      <td>1962</td>\n",
       "      <td>97334442</td>\n",
       "    </tr>\n",
       "    <tr>\n",
       "      <th>3</th>\n",
       "      <td>Arab World</td>\n",
       "      <td>ARB</td>\n",
       "      <td>1963</td>\n",
       "      <td>100034179</td>\n",
       "    </tr>\n",
       "    <tr>\n",
       "      <th>4</th>\n",
       "      <td>Arab World</td>\n",
       "      <td>ARB</td>\n",
       "      <td>1964</td>\n",
       "      <td>102832760</td>\n",
       "    </tr>\n",
       "    <tr>\n",
       "      <th>...</th>\n",
       "      <td>...</td>\n",
       "      <td>...</td>\n",
       "      <td>...</td>\n",
       "      <td>...</td>\n",
       "    </tr>\n",
       "    <tr>\n",
       "      <th>15404</th>\n",
       "      <td>Zimbabwe</td>\n",
       "      <td>ZWE</td>\n",
       "      <td>2014</td>\n",
       "      <td>13586681</td>\n",
       "    </tr>\n",
       "    <tr>\n",
       "      <th>15405</th>\n",
       "      <td>Zimbabwe</td>\n",
       "      <td>ZWE</td>\n",
       "      <td>2015</td>\n",
       "      <td>13814629</td>\n",
       "    </tr>\n",
       "    <tr>\n",
       "      <th>15406</th>\n",
       "      <td>Zimbabwe</td>\n",
       "      <td>ZWE</td>\n",
       "      <td>2016</td>\n",
       "      <td>14030390</td>\n",
       "    </tr>\n",
       "    <tr>\n",
       "      <th>15407</th>\n",
       "      <td>Zimbabwe</td>\n",
       "      <td>ZWE</td>\n",
       "      <td>2017</td>\n",
       "      <td>14236745</td>\n",
       "    </tr>\n",
       "    <tr>\n",
       "      <th>15408</th>\n",
       "      <td>Zimbabwe</td>\n",
       "      <td>ZWE</td>\n",
       "      <td>2018</td>\n",
       "      <td>14439018</td>\n",
       "    </tr>\n",
       "  </tbody>\n",
       "</table>\n",
       "<p>15409 rows × 4 columns</p>\n",
       "</div>"
      ],
      "text/plain": [
       "      Country Name Country Code  Year      Value\n",
       "0       Arab World          ARB  1960   92197753\n",
       "1       Arab World          ARB  1961   94724510\n",
       "2       Arab World          ARB  1962   97334442\n",
       "3       Arab World          ARB  1963  100034179\n",
       "4       Arab World          ARB  1964  102832760\n",
       "...            ...          ...   ...        ...\n",
       "15404     Zimbabwe          ZWE  2014   13586681\n",
       "15405     Zimbabwe          ZWE  2015   13814629\n",
       "15406     Zimbabwe          ZWE  2016   14030390\n",
       "15407     Zimbabwe          ZWE  2017   14236745\n",
       "15408     Zimbabwe          ZWE  2018   14439018\n",
       "\n",
       "[15409 rows x 4 columns]"
      ]
     },
     "execution_count": 99,
     "metadata": {},
     "output_type": "execute_result"
    }
   ],
   "source": [
    "data_population = pd.read_csv('../src/population/population.csv')\n",
    "data_population"
   ]
  },
  {
   "attachments": {},
   "cell_type": "markdown",
   "id": "128f22df-2049-464e-aeec-68bbc4f73581",
   "metadata": {},
   "source": [
    "Дані щодо країн мого варіанту"
   ]
  },
  {
   "cell_type": "code",
   "execution_count": 10,
   "id": "cc05141f-ca65-4bfe-b564-5c249dabbb38",
   "metadata": {
    "tags": []
   },
   "outputs": [
    {
     "data": {
      "text/html": [
       "<div>\n",
       "<style scoped>\n",
       "    .dataframe tbody tr th:only-of-type {\n",
       "        vertical-align: middle;\n",
       "    }\n",
       "\n",
       "    .dataframe tbody tr th {\n",
       "        vertical-align: top;\n",
       "    }\n",
       "\n",
       "    .dataframe thead th {\n",
       "        text-align: right;\n",
       "    }\n",
       "</style>\n",
       "<table border=\"1\" class=\"dataframe\">\n",
       "  <thead>\n",
       "    <tr style=\"text-align: right;\">\n",
       "      <th></th>\n",
       "      <th>Country Name</th>\n",
       "      <th>Country Code</th>\n",
       "      <th>Year</th>\n",
       "      <th>Value</th>\n",
       "    </tr>\n",
       "  </thead>\n",
       "  <tbody>\n",
       "    <tr>\n",
       "      <th>5133</th>\n",
       "      <td>China</td>\n",
       "      <td>CHN</td>\n",
       "      <td>1960</td>\n",
       "      <td>667070000</td>\n",
       "    </tr>\n",
       "    <tr>\n",
       "      <th>5134</th>\n",
       "      <td>China</td>\n",
       "      <td>CHN</td>\n",
       "      <td>1961</td>\n",
       "      <td>660330000</td>\n",
       "    </tr>\n",
       "    <tr>\n",
       "      <th>5135</th>\n",
       "      <td>China</td>\n",
       "      <td>CHN</td>\n",
       "      <td>1962</td>\n",
       "      <td>665770000</td>\n",
       "    </tr>\n",
       "    <tr>\n",
       "      <th>5136</th>\n",
       "      <td>China</td>\n",
       "      <td>CHN</td>\n",
       "      <td>1963</td>\n",
       "      <td>682335000</td>\n",
       "    </tr>\n",
       "    <tr>\n",
       "      <th>5137</th>\n",
       "      <td>China</td>\n",
       "      <td>CHN</td>\n",
       "      <td>1964</td>\n",
       "      <td>698355000</td>\n",
       "    </tr>\n",
       "    <tr>\n",
       "      <th>...</th>\n",
       "      <td>...</td>\n",
       "      <td>...</td>\n",
       "      <td>...</td>\n",
       "      <td>...</td>\n",
       "    </tr>\n",
       "    <tr>\n",
       "      <th>13192</th>\n",
       "      <td>South Sudan</td>\n",
       "      <td>SSD</td>\n",
       "      <td>2014</td>\n",
       "      <td>10554883</td>\n",
       "    </tr>\n",
       "    <tr>\n",
       "      <th>13193</th>\n",
       "      <td>South Sudan</td>\n",
       "      <td>SSD</td>\n",
       "      <td>2015</td>\n",
       "      <td>10715658</td>\n",
       "    </tr>\n",
       "    <tr>\n",
       "      <th>13194</th>\n",
       "      <td>South Sudan</td>\n",
       "      <td>SSD</td>\n",
       "      <td>2016</td>\n",
       "      <td>10832512</td>\n",
       "    </tr>\n",
       "    <tr>\n",
       "      <th>13195</th>\n",
       "      <td>South Sudan</td>\n",
       "      <td>SSD</td>\n",
       "      <td>2017</td>\n",
       "      <td>10910759</td>\n",
       "    </tr>\n",
       "    <tr>\n",
       "      <th>13196</th>\n",
       "      <td>South Sudan</td>\n",
       "      <td>SSD</td>\n",
       "      <td>2018</td>\n",
       "      <td>10975920</td>\n",
       "    </tr>\n",
       "  </tbody>\n",
       "</table>\n",
       "<p>177 rows × 4 columns</p>\n",
       "</div>"
      ],
      "text/plain": [
       "      Country Name Country Code  Year      Value\n",
       "5133         China          CHN  1960  667070000\n",
       "5134         China          CHN  1961  660330000\n",
       "5135         China          CHN  1962  665770000\n",
       "5136         China          CHN  1963  682335000\n",
       "5137         China          CHN  1964  698355000\n",
       "...            ...          ...   ...        ...\n",
       "13192  South Sudan          SSD  2014   10554883\n",
       "13193  South Sudan          SSD  2015   10715658\n",
       "13194  South Sudan          SSD  2016   10832512\n",
       "13195  South Sudan          SSD  2017   10910759\n",
       "13196  South Sudan          SSD  2018   10975920\n",
       "\n",
       "[177 rows x 4 columns]"
      ]
     },
     "execution_count": 10,
     "metadata": {},
     "output_type": "execute_result"
    }
   ],
   "source": [
    "data_population_filtered = data_population.query('`Country Name` in @filter_country')\n",
    "data_population_filtered"
   ]
  },
  {
   "cell_type": "code",
   "execution_count": 11,
   "id": "661c1702-6c94-4ef3-ad46-a7ddc3f9987b",
   "metadata": {
    "tags": []
   },
   "outputs": [
    {
     "data": {
      "text/plain": [
       "array(['China', 'Mexico', 'South Sudan'], dtype=object)"
      ]
     },
     "execution_count": 11,
     "metadata": {},
     "output_type": "execute_result"
    }
   ],
   "source": [
    "data_population_filtered['Country Name'].unique()"
   ]
  },
  {
   "cell_type": "code",
   "execution_count": 15,
   "id": "cf604143-07a5-4d92-8786-179fe8cc7317",
   "metadata": {
    "tags": []
   },
   "outputs": [
    {
     "data": {
      "text/html": [
       "<div>\n",
       "<style scoped>\n",
       "    .dataframe tbody tr th:only-of-type {\n",
       "        vertical-align: middle;\n",
       "    }\n",
       "\n",
       "    .dataframe tbody tr th {\n",
       "        vertical-align: top;\n",
       "    }\n",
       "\n",
       "    .dataframe thead th {\n",
       "        text-align: right;\n",
       "    }\n",
       "</style>\n",
       "<table border=\"1\" class=\"dataframe\">\n",
       "  <thead>\n",
       "    <tr style=\"text-align: right;\">\n",
       "      <th></th>\n",
       "      <th>Year</th>\n",
       "      <th>Value</th>\n",
       "    </tr>\n",
       "  </thead>\n",
       "  <tbody>\n",
       "    <tr>\n",
       "      <th>count</th>\n",
       "      <td>177.000000</td>\n",
       "      <td>1.770000e+02</td>\n",
       "    </tr>\n",
       "    <tr>\n",
       "      <th>mean</th>\n",
       "      <td>1989.000000</td>\n",
       "      <td>3.900500e+08</td>\n",
       "    </tr>\n",
       "    <tr>\n",
       "      <th>std</th>\n",
       "      <td>17.077697</td>\n",
       "      <td>5.098511e+08</td>\n",
       "    </tr>\n",
       "    <tr>\n",
       "      <th>min</th>\n",
       "      <td>1960.000000</td>\n",
       "      <td>2.842724e+06</td>\n",
       "    </tr>\n",
       "    <tr>\n",
       "      <th>25%</th>\n",
       "      <td>1974.000000</td>\n",
       "      <td>7.213351e+06</td>\n",
       "    </tr>\n",
       "    <tr>\n",
       "      <th>50%</th>\n",
       "      <td>1989.000000</td>\n",
       "      <td>8.236893e+07</td>\n",
       "    </tr>\n",
       "    <tr>\n",
       "      <th>75%</th>\n",
       "      <td>2004.000000</td>\n",
       "      <td>9.003500e+08</td>\n",
       "    </tr>\n",
       "    <tr>\n",
       "      <th>max</th>\n",
       "      <td>2018.000000</td>\n",
       "      <td>1.392730e+09</td>\n",
       "    </tr>\n",
       "  </tbody>\n",
       "</table>\n",
       "</div>"
      ],
      "text/plain": [
       "              Year         Value\n",
       "count   177.000000  1.770000e+02\n",
       "mean   1989.000000  3.900500e+08\n",
       "std      17.077697  5.098511e+08\n",
       "min    1960.000000  2.842724e+06\n",
       "25%    1974.000000  7.213351e+06\n",
       "50%    1989.000000  8.236893e+07\n",
       "75%    2004.000000  9.003500e+08\n",
       "max    2018.000000  1.392730e+09"
      ]
     },
     "execution_count": 15,
     "metadata": {},
     "output_type": "execute_result"
    }
   ],
   "source": [
    "data_population_filtered.describe()"
   ]
  },
  {
   "attachments": {},
   "cell_type": "markdown",
   "id": "17a351a5-8953-4f5f-9cbc-681c42a90b44",
   "metadata": {},
   "source": [
    "Ще один варіант вибірки "
   ]
  },
  {
   "cell_type": "code",
   "execution_count": 101,
   "id": "947eacd5-d7f4-4183-a482-2d1a76b02e47",
   "metadata": {
    "tags": []
   },
   "outputs": [
    {
     "data": {
      "text/html": [
       "<div>\n",
       "<style scoped>\n",
       "    .dataframe tbody tr th:only-of-type {\n",
       "        vertical-align: middle;\n",
       "    }\n",
       "\n",
       "    .dataframe tbody tr th {\n",
       "        vertical-align: top;\n",
       "    }\n",
       "\n",
       "    .dataframe thead th {\n",
       "        text-align: right;\n",
       "    }\n",
       "</style>\n",
       "<table border=\"1\" class=\"dataframe\">\n",
       "  <thead>\n",
       "    <tr style=\"text-align: right;\">\n",
       "      <th></th>\n",
       "      <th>Country Name</th>\n",
       "      <th>Country Code</th>\n",
       "      <th>Year</th>\n",
       "      <th>Value</th>\n",
       "    </tr>\n",
       "  </thead>\n",
       "  <tbody>\n",
       "    <tr>\n",
       "      <th>5133</th>\n",
       "      <td>China</td>\n",
       "      <td>CHN</td>\n",
       "      <td>1960</td>\n",
       "      <td>667070000</td>\n",
       "    </tr>\n",
       "    <tr>\n",
       "      <th>5134</th>\n",
       "      <td>China</td>\n",
       "      <td>CHN</td>\n",
       "      <td>1961</td>\n",
       "      <td>660330000</td>\n",
       "    </tr>\n",
       "    <tr>\n",
       "      <th>5135</th>\n",
       "      <td>China</td>\n",
       "      <td>CHN</td>\n",
       "      <td>1962</td>\n",
       "      <td>665770000</td>\n",
       "    </tr>\n",
       "    <tr>\n",
       "      <th>5136</th>\n",
       "      <td>China</td>\n",
       "      <td>CHN</td>\n",
       "      <td>1963</td>\n",
       "      <td>682335000</td>\n",
       "    </tr>\n",
       "    <tr>\n",
       "      <th>5137</th>\n",
       "      <td>China</td>\n",
       "      <td>CHN</td>\n",
       "      <td>1964</td>\n",
       "      <td>698355000</td>\n",
       "    </tr>\n",
       "    <tr>\n",
       "      <th>...</th>\n",
       "      <td>...</td>\n",
       "      <td>...</td>\n",
       "      <td>...</td>\n",
       "      <td>...</td>\n",
       "    </tr>\n",
       "    <tr>\n",
       "      <th>13192</th>\n",
       "      <td>South Sudan</td>\n",
       "      <td>SSD</td>\n",
       "      <td>2014</td>\n",
       "      <td>10554883</td>\n",
       "    </tr>\n",
       "    <tr>\n",
       "      <th>13193</th>\n",
       "      <td>South Sudan</td>\n",
       "      <td>SSD</td>\n",
       "      <td>2015</td>\n",
       "      <td>10715658</td>\n",
       "    </tr>\n",
       "    <tr>\n",
       "      <th>13194</th>\n",
       "      <td>South Sudan</td>\n",
       "      <td>SSD</td>\n",
       "      <td>2016</td>\n",
       "      <td>10832512</td>\n",
       "    </tr>\n",
       "    <tr>\n",
       "      <th>13195</th>\n",
       "      <td>South Sudan</td>\n",
       "      <td>SSD</td>\n",
       "      <td>2017</td>\n",
       "      <td>10910759</td>\n",
       "    </tr>\n",
       "    <tr>\n",
       "      <th>13196</th>\n",
       "      <td>South Sudan</td>\n",
       "      <td>SSD</td>\n",
       "      <td>2018</td>\n",
       "      <td>10975920</td>\n",
       "    </tr>\n",
       "  </tbody>\n",
       "</table>\n",
       "<p>177 rows × 4 columns</p>\n",
       "</div>"
      ],
      "text/plain": [
       "      Country Name Country Code  Year      Value\n",
       "5133         China          CHN  1960  667070000\n",
       "5134         China          CHN  1961  660330000\n",
       "5135         China          CHN  1962  665770000\n",
       "5136         China          CHN  1963  682335000\n",
       "5137         China          CHN  1964  698355000\n",
       "...            ...          ...   ...        ...\n",
       "13192  South Sudan          SSD  2014   10554883\n",
       "13193  South Sudan          SSD  2015   10715658\n",
       "13194  South Sudan          SSD  2016   10832512\n",
       "13195  South Sudan          SSD  2017   10910759\n",
       "13196  South Sudan          SSD  2018   10975920\n",
       "\n",
       "[177 rows x 4 columns]"
      ]
     },
     "execution_count": 101,
     "metadata": {},
     "output_type": "execute_result"
    }
   ],
   "source": [
    "cust_filter = 1960\n",
    "cust_filter2 = 2020\n",
    "data_population_1960_2020 = data_population.query('(Year >= @cust_filter | Year <= @cust_filter2) & `Country Name` in @filter_country')\n",
    "data_population_1960_2020"
   ]
  },
  {
   "cell_type": "code",
   "execution_count": 20,
   "id": "a1fe3def-a036-4678-b71f-3bee7a298c59",
   "metadata": {
    "tags": []
   },
   "outputs": [
    {
     "data": {
      "text/plain": [
       "True"
      ]
     },
     "execution_count": 20,
     "metadata": {},
     "output_type": "execute_result"
    }
   ],
   "source": [
    "data_population_filtered.equals(data_population_1960_2020)"
   ]
  },
  {
   "cell_type": "code",
   "execution_count": 21,
   "id": "5cfaf9a6-1ff7-4f8f-8101-553bd514cb13",
   "metadata": {
    "tags": []
   },
   "outputs": [],
   "source": [
    "if not os.path.exists('./tables_and_graphs'):\n",
    "    os.mkdir('./tables_and_graphs')"
   ]
  },
  {
   "cell_type": "code",
   "execution_count": 103,
   "id": "86769d1d-4e9f-4ad5-ada7-eace3be62da8",
   "metadata": {
    "tags": []
   },
   "outputs": [],
   "source": [
    "data_population_1960_2020.to_csv(\"./tables_and_graphs/data_population_1960_2020.csv\", index=False)\n",
    "data_population_1960_2020.to_excel(\"./tables_and_graphs/data_population_1960_2020.xlsx\", sheet_name=\"Sheet1\", index=False)\n",
    "data_population_1960_2020.to_json(path_or_buf=\"./tables_and_graphs/data_population_1960_2020.json\", orient=\"split\")"
   ]
  },
  {
   "attachments": {},
   "cell_type": "markdown",
   "id": "dcadba7b-8167-4697-af3a-73dbb824c8a7",
   "metadata": {},
   "source": [
    "1. #### Лінійний графік"
   ]
  },
  {
   "attachments": {},
   "cell_type": "markdown",
   "id": "f4c3d448-65a0-483e-a899-cc74aba99823",
   "metadata": {},
   "source": [
    "*1.1 Лінійний графік популяції 3 країн відповідно до року.*"
   ]
  },
  {
   "cell_type": "code",
   "execution_count": 104,
   "id": "3792e224-bf1c-4649-ac74-e628d2e26696",
   "metadata": {
    "tags": []
   },
   "outputs": [],
   "source": [
    "def fun_xy_plot(dataframe, country):\n",
    "    df1 = dataframe.query('`Country Name` == @country')\n",
    "    data = df1[['Year', 'Value']].values.tolist()\n",
    "    x = np.zeros((len(data), 1))\n",
    "    y = np.zeros((len(data), 1))\n",
    "    for i in range(len(data)):\n",
    "        x[i] = data[i][0]\n",
    "        y[i] = data[i][1]     \n",
    "    \n",
    "    return country, x, y"
   ]
  },
  {
   "cell_type": "code",
   "execution_count": 105,
   "id": "f836af93-5070-4dc1-9778-960f79eafa05",
   "metadata": {
    "tags": []
   },
   "outputs": [
    {
     "data": {
      "image/png": "[encoded data removed]",
      "text/plain": [
       "<Figure size 640x480 with 1 Axes>"
      ]
     },
     "metadata": {},
     "output_type": "display_data"
    }
   ],
   "source": [
    "def plot_line1(dateframe, filter_country):\n",
    "    colors = ['mediumslateblue', 'lightskyblue', 'pink']\n",
    "    \n",
    "    if type(filter_country) == str:\n",
    "        columns = 1\n",
    "        country, x, y = fun_xy_plot(dateframe, filter_country) \n",
    "        plt.plot(x, y, color=colors[0], label=f'{country}', marker=\".\", markersize=10)\n",
    "    else:\n",
    "        columns = len(filter_country)\n",
    "        for i in range(columns):\n",
    "            country, x, y = fun_xy_plot(dateframe, filter_country[i]) \n",
    "            plt.plot(x, y, color=colors[i], label=f'{country}', marker=\".\", markersize=10)\n",
    "        \n",
    "    plt.title('Line graph 1 \\n \"Population of countries\" ')\n",
    "    plt.ylabel('$ Value $')\n",
    "    plt.xlabel('$ Year $')\n",
    "    plt.legend(bbox_to_anchor=(1,1), loc=\"upper left\")\n",
    "    \n",
    "    plt.savefig('./tables_and_graphs/line1_population.png', bbox_inches='tight')\n",
    "    \n",
    "plot_line1(data_population_1960_2020, filter_country)"
   ]
  },
  {
   "attachments": {},
   "cell_type": "markdown",
   "id": "7b78f748-1d64-4422-9b13-8209928b4933",
   "metadata": {},
   "source": [
    "*1.2 Лінійний графік популяції 3 країн сумарно по країнам.*"
   ]
  },
  {
   "cell_type": "code",
   "execution_count": 27,
   "id": "6c4e5459-66b4-4119-bc50-05c0e24ffb51",
   "metadata": {
    "tags": []
   },
   "outputs": [
    {
     "data": {
      "text/plain": [
       "Country Name\n",
       "South Sudan      343950195\n",
       "Mexico          4820436994\n",
       "China          63874465000\n",
       "Name: Value, dtype: int64"
      ]
     },
     "execution_count": 27,
     "metadata": {},
     "output_type": "execute_result"
    }
   ],
   "source": [
    "df = data_population_1960_2020\n",
    "grouped_df = df.groupby('Country Name')['Value'].sum()\n",
    "top = grouped_df.sort_values(ascending=True)\n",
    "top"
   ]
  },
  {
   "cell_type": "code",
   "execution_count": 106,
   "id": "cabb2d4a-24b0-4076-a7c2-82578bba8170",
   "metadata": {
    "tags": []
   },
   "outputs": [
    {
     "data": {
      "image/png": "[encoded data removed]",
      "text/plain": [
       "<Figure size 640x480 with 1 Axes>"
      ]
     },
     "metadata": {},
     "output_type": "display_data"
    }
   ],
   "source": [
    "def plot_line2(data):\n",
    "    fig, ax = plt.subplots()\n",
    "    top = data\n",
    "    res = top.plot(x=\"Year\", y=\"Value\", color=\"mediumslateblue\", ylabel='Value', marker=\".\", markersize=10).get_figure()\n",
    "\n",
    "    plt.title('Line graph 2 \\n \"Population of countries\"')\n",
    "    plt.ylabel('$ Value $')\n",
    "    plt.xlabel('$ Country \\ Name $')\n",
    "    res.savefig('./tables_and_graphs/line2_population.pdf', bbox_inches='tight')\n",
    "    res.savefig('./tables_and_graphs/line2_population.png', bbox_inches='tight')\n",
    "    res.savefig('./tables_and_graphs/line2_population.jpg', bbox_inches='tight')\n",
    "    \n",
    "plot_line2(top)  "
   ]
  },
  {
   "attachments": {},
   "cell_type": "markdown",
   "id": "78632472-5d50-49c4-b7ca-f7531b1ab821",
   "metadata": {},
   "source": [
    "2. #### Кругова діаграма "
   ]
  },
  {
   "cell_type": "code",
   "execution_count": 107,
   "id": "4cd362b9-39f9-4b80-914e-0accf8754c0f",
   "metadata": {
    "tags": []
   },
   "outputs": [
    {
     "data": {
      "image/png": "[encoded data removed]",
      "text/plain": [
       "<Figure size 640x480 with 1 Axes>"
      ]
     },
     "metadata": {},
     "output_type": "display_data"
    }
   ],
   "source": [
    "def plot_pie(data):\n",
    "    if len(data) > 3:\n",
    "        list_exp = [0.05 for i in range(len(data))] \n",
    "    else:\n",
    "        list_exp = [0.2, 0.2, 0.1]\n",
    "        \n",
    "    explode = tuple(list_exp)\n",
    "    colors = [\n",
    "        [0.41062479, 0.8407867,  0.87001545], \n",
    "        [0.82670165, 0.96549147, 0.59721125], \n",
    "        [0.9737108,  0.96112498, 0.56562821] \n",
    "    ]\n",
    "    res = data.plot(kind='pie', y = 'Value', autopct='%1.1f%%', explode=explode, ylabel = '',colors = colors, shadow=False).get_figure()\n",
    "    plt.title('Pie \\n \"Population of countries\" \\n(by value of population)')\n",
    "    plt.legend(bbox_to_anchor=(1,1), loc=\"upper left\")\n",
    "    res.savefig('./tables_and_graphs/pie_population.png', bbox_inches='tight')\n",
    "\n",
    "plot_pie(top)"
   ]
  },
  {
   "attachments": {},
   "cell_type": "markdown",
   "id": "680a01de-db54-46b9-8be3-13c71b082479",
   "metadata": {},
   "source": [
    "3. #### Стовпчаста діаграма"
   ]
  },
  {
   "cell_type": "code",
   "execution_count": 108,
   "id": "d2919f8b-785c-4c45-a7f5-ae4bad6dcde0",
   "metadata": {
    "tags": []
   },
   "outputs": [
    {
     "data": {
      "image/png": "[encoded data removed]",
      "text/plain": [
       "<Figure size 640x480 with 1 Axes>"
      ]
     },
     "metadata": {},
     "output_type": "display_data"
    }
   ],
   "source": [
    "def plot_bar(data): \n",
    "    fig, ax = plt.subplots()\n",
    "    count = len(data)\n",
    "    colors = [\n",
    "        [0.41062479, 0.8407867,  0.87001545],\n",
    "        [0.82670165, 0.96549147, 0.59721125],\n",
    "        [0.9737108,  0.96112498, 0.56562821]\n",
    "    ]\n",
    "    res = top.plot(kind = 'bar', x=\"Country Name\", y=\"Value\", label=\"Value\", color = colors).get_figure()\n",
    "    ax.tick_params(axis='x', labelrotation=0)\n",
    "    plt.title('Bar \\n \"Population of countries\" \\n(by value of population)')\n",
    "    plt.ylabel('$Value$')\n",
    "    plt.xlabel('$Country \\ Name$')\n",
    "    res.savefig('./tables_and_graphs/bar_population.png', bbox_inches='tight')\n",
    "\n",
    "plot_bar(top)"
   ]
  },
  {
   "attachments": {},
   "cell_type": "markdown",
   "id": "eea7d5d3-3904-4bec-8603-8cff2ab40041",
   "metadata": {
    "tags": []
   },
   "source": [
    "### Task 2 Показати в табличному вигляді основні стаститичні величини: min, max, mean, квантіли 25%, 75%, 95%."
   ]
  },
  {
   "attachments": {},
   "cell_type": "markdown",
   "id": "40821189",
   "metadata": {},
   "source": [
    "2. #### Розглянемо таблицю **population.csv**."
   ]
  },
  {
   "cell_type": "code",
   "execution_count": 111,
   "id": "b35da7a5-6757-4908-9d74-94b2e9a50a9a",
   "metadata": {
    "tags": []
   },
   "outputs": [
    {
     "data": {
      "text/plain": [
       "array(['China', 'Mexico', 'South Sudan'], dtype=object)"
      ]
     },
     "execution_count": 111,
     "metadata": {},
     "output_type": "execute_result"
    }
   ],
   "source": [
    "data_population = pd.read_csv('../src/population/population.csv')\n",
    "data_population_filtered = data_population.query(' `Country Name` in @filter_country ')\n",
    "data_population_filtered['Country Name'].unique()"
   ]
  },
  {
   "cell_type": "code",
   "execution_count": 112,
   "id": "5293ea58-0c06-4816-819f-274dd13642ab",
   "metadata": {
    "tags": []
   },
   "outputs": [
    {
     "data": {
      "text/html": [
       "<div>\n",
       "<style scoped>\n",
       "    .dataframe tbody tr th:only-of-type {\n",
       "        vertical-align: middle;\n",
       "    }\n",
       "\n",
       "    .dataframe tbody tr th {\n",
       "        vertical-align: top;\n",
       "    }\n",
       "\n",
       "    .dataframe thead th {\n",
       "        text-align: right;\n",
       "    }\n",
       "</style>\n",
       "<table border=\"1\" class=\"dataframe\">\n",
       "  <thead>\n",
       "    <tr style=\"text-align: right;\">\n",
       "      <th></th>\n",
       "      <th>Year</th>\n",
       "      <th>Value</th>\n",
       "    </tr>\n",
       "  </thead>\n",
       "  <tbody>\n",
       "    <tr>\n",
       "      <th>count</th>\n",
       "      <td>177.000000</td>\n",
       "      <td>1.770000e+02</td>\n",
       "    </tr>\n",
       "    <tr>\n",
       "      <th>mean</th>\n",
       "      <td>1989.000000</td>\n",
       "      <td>3.900500e+08</td>\n",
       "    </tr>\n",
       "    <tr>\n",
       "      <th>std</th>\n",
       "      <td>17.077697</td>\n",
       "      <td>5.098511e+08</td>\n",
       "    </tr>\n",
       "    <tr>\n",
       "      <th>min</th>\n",
       "      <td>1960.000000</td>\n",
       "      <td>2.842724e+06</td>\n",
       "    </tr>\n",
       "    <tr>\n",
       "      <th>25%</th>\n",
       "      <td>1974.000000</td>\n",
       "      <td>7.213351e+06</td>\n",
       "    </tr>\n",
       "    <tr>\n",
       "      <th>50%</th>\n",
       "      <td>1989.000000</td>\n",
       "      <td>8.236893e+07</td>\n",
       "    </tr>\n",
       "    <tr>\n",
       "      <th>75%</th>\n",
       "      <td>2004.000000</td>\n",
       "      <td>9.003500e+08</td>\n",
       "    </tr>\n",
       "    <tr>\n",
       "      <th>max</th>\n",
       "      <td>2018.000000</td>\n",
       "      <td>1.392730e+09</td>\n",
       "    </tr>\n",
       "  </tbody>\n",
       "</table>\n",
       "</div>"
      ],
      "text/plain": [
       "              Year         Value\n",
       "count   177.000000  1.770000e+02\n",
       "mean   1989.000000  3.900500e+08\n",
       "std      17.077697  5.098511e+08\n",
       "min    1960.000000  2.842724e+06\n",
       "25%    1974.000000  7.213351e+06\n",
       "50%    1989.000000  8.236893e+07\n",
       "75%    2004.000000  9.003500e+08\n",
       "max    2018.000000  1.392730e+09"
      ]
     },
     "metadata": {},
     "output_type": "display_data"
    }
   ],
   "source": [
    "statistics_population = data_population_filtered.describe()\n",
    "display(statistics_population)"
   ]
  },
  {
   "cell_type": "code",
   "execution_count": 37,
   "id": "cc3d1dce-13d8-451f-be8c-7d8ec0f6419e",
   "metadata": {
    "tags": []
   },
   "outputs": [
    {
     "data": {
      "text/html": [
       "<div>\n",
       "<style scoped>\n",
       "    .dataframe tbody tr th:only-of-type {\n",
       "        vertical-align: middle;\n",
       "    }\n",
       "\n",
       "    .dataframe tbody tr th {\n",
       "        vertical-align: top;\n",
       "    }\n",
       "\n",
       "    .dataframe thead th {\n",
       "        text-align: right;\n",
       "    }\n",
       "</style>\n",
       "<table border=\"1\" class=\"dataframe\">\n",
       "  <thead>\n",
       "    <tr style=\"text-align: right;\">\n",
       "      <th></th>\n",
       "      <th>Year</th>\n",
       "      <th>Value</th>\n",
       "    </tr>\n",
       "  </thead>\n",
       "  <tbody>\n",
       "    <tr>\n",
       "      <th>25%</th>\n",
       "      <td>1974.0</td>\n",
       "      <td>7.213351e+06</td>\n",
       "    </tr>\n",
       "    <tr>\n",
       "      <th>75%</th>\n",
       "      <td>2004.0</td>\n",
       "      <td>9.003500e+08</td>\n",
       "    </tr>\n",
       "    <tr>\n",
       "      <th>95%</th>\n",
       "      <td>2015.2</td>\n",
       "      <td>1.332549e+09</td>\n",
       "    </tr>\n",
       "  </tbody>\n",
       "</table>\n",
       "</div>"
      ],
      "text/plain": [
       "       Year         Value\n",
       "25%  1974.0  7.213351e+06\n",
       "75%  2004.0  9.003500e+08\n",
       "95%  2015.2  1.332549e+09"
      ]
     },
     "execution_count": 37,
     "metadata": {},
     "output_type": "execute_result"
    }
   ],
   "source": [
    "data_quantile = pd.DataFrame(np.zeros((3,2)), columns = ['Year', 'Value'], index = ['25%', '75%', '95%'])\n",
    "\n",
    "for j in ['Year', 'Value']:\n",
    "    if j == 'Year':\n",
    "        data = data_population_filtered['Year']\n",
    "    else:\n",
    "        data = data_population_filtered['Value']\n",
    "        \n",
    "    data_quantile[j][0] = np.quantile(data, .25)\n",
    "    data_quantile[j][1] = np.quantile(data, .75)\n",
    "    data_quantile[j][2] = np.quantile(data, .95)\n",
    "    \n",
    "data_quantile"
   ]
  },
  {
   "cell_type": "code",
   "execution_count": 38,
   "id": "aa21328c-6820-4fe5-b687-4b9fbe608627",
   "metadata": {
    "tags": []
   },
   "outputs": [
    {
     "data": {
      "text/html": [
       "<div>\n",
       "<style scoped>\n",
       "    .dataframe tbody tr th:only-of-type {\n",
       "        vertical-align: middle;\n",
       "    }\n",
       "\n",
       "    .dataframe tbody tr th {\n",
       "        vertical-align: top;\n",
       "    }\n",
       "\n",
       "    .dataframe thead th {\n",
       "        text-align: right;\n",
       "    }\n",
       "</style>\n",
       "<table border=\"1\" class=\"dataframe\">\n",
       "  <thead>\n",
       "    <tr style=\"text-align: right;\">\n",
       "      <th></th>\n",
       "      <th>Year</th>\n",
       "      <th>Value</th>\n",
       "    </tr>\n",
       "  </thead>\n",
       "  <tbody>\n",
       "    <tr>\n",
       "      <th>count</th>\n",
       "      <td>177.000000</td>\n",
       "      <td>1.770000e+02</td>\n",
       "    </tr>\n",
       "    <tr>\n",
       "      <th>mean</th>\n",
       "      <td>1989.000000</td>\n",
       "      <td>3.900500e+08</td>\n",
       "    </tr>\n",
       "    <tr>\n",
       "      <th>std</th>\n",
       "      <td>17.077697</td>\n",
       "      <td>5.098511e+08</td>\n",
       "    </tr>\n",
       "    <tr>\n",
       "      <th>min</th>\n",
       "      <td>1960.000000</td>\n",
       "      <td>2.842724e+06</td>\n",
       "    </tr>\n",
       "    <tr>\n",
       "      <th>25%</th>\n",
       "      <td>1974.000000</td>\n",
       "      <td>7.213351e+06</td>\n",
       "    </tr>\n",
       "    <tr>\n",
       "      <th>50%</th>\n",
       "      <td>1989.000000</td>\n",
       "      <td>8.236893e+07</td>\n",
       "    </tr>\n",
       "    <tr>\n",
       "      <th>75%</th>\n",
       "      <td>2004.000000</td>\n",
       "      <td>9.003500e+08</td>\n",
       "    </tr>\n",
       "    <tr>\n",
       "      <th>max</th>\n",
       "      <td>2018.000000</td>\n",
       "      <td>1.392730e+09</td>\n",
       "    </tr>\n",
       "    <tr>\n",
       "      <th>95%</th>\n",
       "      <td>2015.200000</td>\n",
       "      <td>1.332549e+09</td>\n",
       "    </tr>\n",
       "  </tbody>\n",
       "</table>\n",
       "</div>"
      ],
      "text/plain": [
       "              Year         Value\n",
       "count   177.000000  1.770000e+02\n",
       "mean   1989.000000  3.900500e+08\n",
       "std      17.077697  5.098511e+08\n",
       "min    1960.000000  2.842724e+06\n",
       "25%    1974.000000  7.213351e+06\n",
       "50%    1989.000000  8.236893e+07\n",
       "75%    2004.000000  9.003500e+08\n",
       "max    2018.000000  1.392730e+09\n",
       "95%    2015.200000  1.332549e+09"
      ]
     },
     "metadata": {},
     "output_type": "display_data"
    }
   ],
   "source": [
    "data_quantile = data_quantile.drop(['25%', '75%'])\n",
    "statistics_population = pd.concat([statistics_population, data_quantile], ignore_index=False)\n",
    "display(statistics_population)"
   ]
  },
  {
   "cell_type": "code",
   "execution_count": 116,
   "id": "78aff43b-7bfc-459b-abce-f62e20668b39",
   "metadata": {
    "tags": []
   },
   "outputs": [],
   "source": [
    "statistics_population.to_csv(\"./tables_and_graphs/statistics_population.csv\", index = True)\n",
    "statistics_population.to_excel(\"./tables_and_graphs/statistics_population.xlsx\", sheet_name=\"Sheet1\", index=False)\n",
    "statistics_population.to_json(path_or_buf=\"./tables_and_graphs/statistics_population.json\", orient=\"split\")"
   ]
  },
  {
   "attachments": {},
   "cell_type": "markdown",
   "id": "74165d8d-5f0b-48be-a3ce-b4e9f034496c",
   "metadata": {},
   "source": [
    "2. #### Розглянемо таблицю **ppp-gdp.csv**."
   ]
  },
  {
   "cell_type": "code",
   "execution_count": 118,
   "id": "3af0b055-7d29-4bbf-9085-36f411517a44",
   "metadata": {
    "tags": []
   },
   "outputs": [
    {
     "data": {
      "text/plain": [
       "array(['South Sudan', 'China', 'Mexico'], dtype=object)"
      ]
     },
     "execution_count": 118,
     "metadata": {},
     "output_type": "execute_result"
    }
   ],
   "source": [
    "data_ppp = pd.read_csv('../src/ppp/ppp-gdp.csv')\n",
    "data_ppp_filtered = data_ppp.query(' `Country` in @filter_country ')\n",
    "data_ppp_filtered['Country'].unique()"
   ]
  },
  {
   "cell_type": "code",
   "execution_count": 119,
   "id": "faca20bd-6651-4a72-b8f1-7634eade29a8",
   "metadata": {
    "tags": []
   },
   "outputs": [
    {
     "data": {
      "text/html": [
       "<div>\n",
       "<style scoped>\n",
       "    .dataframe tbody tr th:only-of-type {\n",
       "        vertical-align: middle;\n",
       "    }\n",
       "\n",
       "    .dataframe tbody tr th {\n",
       "        vertical-align: top;\n",
       "    }\n",
       "\n",
       "    .dataframe thead th {\n",
       "        text-align: right;\n",
       "    }\n",
       "</style>\n",
       "<table border=\"1\" class=\"dataframe\">\n",
       "  <thead>\n",
       "    <tr style=\"text-align: right;\">\n",
       "      <th></th>\n",
       "      <th>Year</th>\n",
       "      <th>PPP</th>\n",
       "    </tr>\n",
       "  </thead>\n",
       "  <tbody>\n",
       "    <tr>\n",
       "      <th>count</th>\n",
       "      <td>72.000000</td>\n",
       "      <td>72.000000</td>\n",
       "    </tr>\n",
       "    <tr>\n",
       "      <th>mean</th>\n",
       "      <td>2006.166667</td>\n",
       "      <td>4.417867</td>\n",
       "    </tr>\n",
       "    <tr>\n",
       "      <th>std</th>\n",
       "      <td>9.002347</td>\n",
       "      <td>2.516201</td>\n",
       "    </tr>\n",
       "    <tr>\n",
       "      <th>min</th>\n",
       "      <td>1990.000000</td>\n",
       "      <td>1.049935</td>\n",
       "    </tr>\n",
       "    <tr>\n",
       "      <th>25%</th>\n",
       "      <td>1998.750000</td>\n",
       "      <td>2.703851</td>\n",
       "    </tr>\n",
       "    <tr>\n",
       "      <th>50%</th>\n",
       "      <td>2007.500000</td>\n",
       "      <td>3.542718</td>\n",
       "    </tr>\n",
       "    <tr>\n",
       "      <th>75%</th>\n",
       "      <td>2013.250000</td>\n",
       "      <td>6.730064</td>\n",
       "    </tr>\n",
       "    <tr>\n",
       "      <th>max</th>\n",
       "      <td>2021.000000</td>\n",
       "      <td>10.043314</td>\n",
       "    </tr>\n",
       "  </tbody>\n",
       "</table>\n",
       "</div>"
      ],
      "text/plain": [
       "              Year        PPP\n",
       "count    72.000000  72.000000\n",
       "mean   2006.166667   4.417867\n",
       "std       9.002347   2.516201\n",
       "min    1990.000000   1.049935\n",
       "25%    1998.750000   2.703851\n",
       "50%    2007.500000   3.542718\n",
       "75%    2013.250000   6.730064\n",
       "max    2021.000000  10.043314"
      ]
     },
     "execution_count": 119,
     "metadata": {},
     "output_type": "execute_result"
    }
   ],
   "source": [
    "statistics_ppp = data_ppp_filtered.describe()\n",
    "statistics_ppp"
   ]
  },
  {
   "cell_type": "code",
   "execution_count": 121,
   "id": "9f06c36e-2ced-4926-b52e-ff6a977729d6",
   "metadata": {
    "tags": []
   },
   "outputs": [
    {
     "data": {
      "text/html": [
       "<div>\n",
       "<style scoped>\n",
       "    .dataframe tbody tr th:only-of-type {\n",
       "        vertical-align: middle;\n",
       "    }\n",
       "\n",
       "    .dataframe tbody tr th {\n",
       "        vertical-align: top;\n",
       "    }\n",
       "\n",
       "    .dataframe thead th {\n",
       "        text-align: right;\n",
       "    }\n",
       "</style>\n",
       "<table border=\"1\" class=\"dataframe\">\n",
       "  <thead>\n",
       "    <tr style=\"text-align: right;\">\n",
       "      <th></th>\n",
       "      <th>Year</th>\n",
       "      <th>PPP</th>\n",
       "    </tr>\n",
       "  </thead>\n",
       "  <tbody>\n",
       "    <tr>\n",
       "      <th>25%</th>\n",
       "      <td>1998.75</td>\n",
       "      <td>2.703851</td>\n",
       "    </tr>\n",
       "    <tr>\n",
       "      <th>75%</th>\n",
       "      <td>2013.25</td>\n",
       "      <td>6.730064</td>\n",
       "    </tr>\n",
       "    <tr>\n",
       "      <th>95%</th>\n",
       "      <td>2019.45</td>\n",
       "      <td>9.076817</td>\n",
       "    </tr>\n",
       "  </tbody>\n",
       "</table>\n",
       "</div>"
      ],
      "text/plain": [
       "        Year       PPP\n",
       "25%  1998.75  2.703851\n",
       "75%  2013.25  6.730064\n",
       "95%  2019.45  9.076817"
      ]
     },
     "execution_count": 121,
     "metadata": {},
     "output_type": "execute_result"
    }
   ],
   "source": [
    "data_quantile = pd.DataFrame(np.zeros((3,2)), columns = ['Year', 'PPP'], index = ['25%', '75%', '95%'])\n",
    "for j in ['Year', 'PPP']:\n",
    "    if j == 'Year':\n",
    "        data = data_ppp_filtered['Year']\n",
    "    else:\n",
    "        data = data_ppp_filtered['PPP']\n",
    "        \n",
    "    data_quantile[j][0] = np.quantile(data, .25)\n",
    "    data_quantile[j][1] = np.quantile(data, .75)\n",
    "    data_quantile[j][2] = np.quantile(data, .95)\n",
    "    \n",
    "data_quantile"
   ]
  },
  {
   "cell_type": "code",
   "execution_count": 122,
   "id": "cf8bfcb1-1ba2-40a8-a9f2-b28a15b2332f",
   "metadata": {
    "tags": []
   },
   "outputs": [
    {
     "data": {
      "text/html": [
       "<div>\n",
       "<style scoped>\n",
       "    .dataframe tbody tr th:only-of-type {\n",
       "        vertical-align: middle;\n",
       "    }\n",
       "\n",
       "    .dataframe tbody tr th {\n",
       "        vertical-align: top;\n",
       "    }\n",
       "\n",
       "    .dataframe thead th {\n",
       "        text-align: right;\n",
       "    }\n",
       "</style>\n",
       "<table border=\"1\" class=\"dataframe\">\n",
       "  <thead>\n",
       "    <tr style=\"text-align: right;\">\n",
       "      <th></th>\n",
       "      <th>Year</th>\n",
       "      <th>PPP</th>\n",
       "    </tr>\n",
       "  </thead>\n",
       "  <tbody>\n",
       "    <tr>\n",
       "      <th>count</th>\n",
       "      <td>72.000000</td>\n",
       "      <td>72.000000</td>\n",
       "    </tr>\n",
       "    <tr>\n",
       "      <th>mean</th>\n",
       "      <td>2006.166667</td>\n",
       "      <td>4.417867</td>\n",
       "    </tr>\n",
       "    <tr>\n",
       "      <th>std</th>\n",
       "      <td>9.002347</td>\n",
       "      <td>2.516201</td>\n",
       "    </tr>\n",
       "    <tr>\n",
       "      <th>min</th>\n",
       "      <td>1990.000000</td>\n",
       "      <td>1.049935</td>\n",
       "    </tr>\n",
       "    <tr>\n",
       "      <th>25%</th>\n",
       "      <td>1998.750000</td>\n",
       "      <td>2.703851</td>\n",
       "    </tr>\n",
       "    <tr>\n",
       "      <th>50%</th>\n",
       "      <td>2007.500000</td>\n",
       "      <td>3.542718</td>\n",
       "    </tr>\n",
       "    <tr>\n",
       "      <th>75%</th>\n",
       "      <td>2013.250000</td>\n",
       "      <td>6.730064</td>\n",
       "    </tr>\n",
       "    <tr>\n",
       "      <th>max</th>\n",
       "      <td>2021.000000</td>\n",
       "      <td>10.043314</td>\n",
       "    </tr>\n",
       "    <tr>\n",
       "      <th>95%</th>\n",
       "      <td>2019.450000</td>\n",
       "      <td>9.076817</td>\n",
       "    </tr>\n",
       "  </tbody>\n",
       "</table>\n",
       "</div>"
      ],
      "text/plain": [
       "              Year        PPP\n",
       "count    72.000000  72.000000\n",
       "mean   2006.166667   4.417867\n",
       "std       9.002347   2.516201\n",
       "min    1990.000000   1.049935\n",
       "25%    1998.750000   2.703851\n",
       "50%    2007.500000   3.542718\n",
       "75%    2013.250000   6.730064\n",
       "max    2021.000000  10.043314\n",
       "95%    2019.450000   9.076817"
      ]
     },
     "metadata": {},
     "output_type": "display_data"
    }
   ],
   "source": [
    "data_quantile = data_quantile.drop(['25%', '75%'])\n",
    "statistics_ppp = pd.concat([statistics_ppp, data_quantile], ignore_index=False)\n",
    "display(statistics_ppp)"
   ]
  },
  {
   "cell_type": "code",
   "execution_count": 123,
   "id": "0febd01a-1ba7-43b5-bf75-e8aba1c79a25",
   "metadata": {
    "tags": []
   },
   "outputs": [],
   "source": [
    "statistics_ppp.to_csv(\"./tables_and_graphs/statistics_ppp.csv\", index = True)\n",
    "statistics_ppp.to_excel(\"./tables_and_graphs/statistics_ppp.xlsx\", sheet_name=\"Sheet1\", index=False)\n",
    "statistics_ppp.to_json(path_or_buf=\"./tables_and_graphs/statistics_ppp.json\", orient=\"split\")"
   ]
  },
  {
   "attachments": {},
   "cell_type": "markdown",
   "id": "54089d9e-83bc-42de-93a0-6f0c26369f95",
   "metadata": {},
   "source": [
    "3. #### Розглянемо таблиці в **/oil-prices**."
   ]
  },
  {
   "cell_type": "code",
   "execution_count": 47,
   "id": "1f6aacb6-cdee-4a1c-bc7c-1d0122693356",
   "metadata": {
    "tags": []
   },
   "outputs": [
    {
     "data": {
      "text/plain": [
       "['brent-daily.csv',\n",
       " 'brent-monthly.csv',\n",
       " 'brent-weekly.csv',\n",
       " 'brent-year.csv',\n",
       " 'wti-daily.csv',\n",
       " 'wti-monthly.csv',\n",
       " 'wti-weekly.csv',\n",
       " 'wti-year.csv']"
      ]
     },
     "execution_count": 47,
     "metadata": {},
     "output_type": "execute_result"
    }
   ],
   "source": [
    "files_oil = os.listdir('../src/oil-prices')\n",
    "files_oil_csv = [file for file in files_oil if '.csv' in file]\n",
    "files_oil_csv                 "
   ]
  },
  {
   "attachments": {},
   "cell_type": "markdown",
   "id": "62e7a6d9-3042-4b0d-8200-b1c38db185a7",
   "metadata": {},
   "source": [
    "Тут є 2 марки нафти 'wti' та 'brent'."
   ]
  },
  {
   "attachments": {},
   "cell_type": "markdown",
   "id": "5ac39807-7823-47dd-b6ec-60622520413b",
   "metadata": {},
   "source": [
    "**3.1 Перший варіант вибірки**"
   ]
  },
  {
   "cell_type": "code",
   "execution_count": 125,
   "id": "fa2bbe56-ea78-4379-970d-f50731425d3a",
   "metadata": {
    "tags": []
   },
   "outputs": [],
   "source": [
    "def concat_files_oil(files_oil_csv):\n",
    "    for i in range(len(files_oil_csv)):\n",
    "        join_path = os.path.join('../src/oil-prices', files_oil_csv[i])\n",
    "        df_oil = pd.read_csv(join_path)\n",
    "\n",
    "        if i == 0:\n",
    "            result = df_oil.copy(deep=True)\n",
    "        else:\n",
    "            result = pd.concat([result, df_oil], ignore_index=True)\n",
    "    print(\"The concatenation process in folder '{}' is complete.\".format('../src/oil-prices'))  \n",
    "    return result"
   ]
  },
  {
   "cell_type": "code",
   "execution_count": 127,
   "id": "1d78d08b-2df5-4675-9296-bc2ddd64aa8b",
   "metadata": {
    "tags": []
   },
   "outputs": [
    {
     "name": "stdout",
     "output_type": "stream",
     "text": [
      "The concatenation process in folder '../src/oil-prices' is complete.\n"
     ]
    },
    {
     "data": {
      "text/html": [
       "<div>\n",
       "<style scoped>\n",
       "    .dataframe tbody tr th:only-of-type {\n",
       "        vertical-align: middle;\n",
       "    }\n",
       "\n",
       "    .dataframe tbody tr th {\n",
       "        vertical-align: top;\n",
       "    }\n",
       "\n",
       "    .dataframe thead th {\n",
       "        text-align: right;\n",
       "    }\n",
       "</style>\n",
       "<table border=\"1\" class=\"dataframe\">\n",
       "  <thead>\n",
       "    <tr style=\"text-align: right;\">\n",
       "      <th></th>\n",
       "      <th>Price</th>\n",
       "    </tr>\n",
       "  </thead>\n",
       "  <tbody>\n",
       "    <tr>\n",
       "      <th>count</th>\n",
       "      <td>9691.000000</td>\n",
       "    </tr>\n",
       "    <tr>\n",
       "      <th>mean</th>\n",
       "      <td>113.196581</td>\n",
       "    </tr>\n",
       "    <tr>\n",
       "      <th>std</th>\n",
       "      <td>91.661473</td>\n",
       "    </tr>\n",
       "    <tr>\n",
       "      <th>min</th>\n",
       "      <td>-19.620000</td>\n",
       "    </tr>\n",
       "    <tr>\n",
       "      <th>25%</th>\n",
       "      <td>40.705000</td>\n",
       "    </tr>\n",
       "    <tr>\n",
       "      <th>50%</th>\n",
       "      <td>85.120000</td>\n",
       "    </tr>\n",
       "    <tr>\n",
       "      <th>75%</th>\n",
       "      <td>154.640000</td>\n",
       "    </tr>\n",
       "    <tr>\n",
       "      <th>max</th>\n",
       "      <td>697.910000</td>\n",
       "    </tr>\n",
       "  </tbody>\n",
       "</table>\n",
       "</div>"
      ],
      "text/plain": [
       "             Price\n",
       "count  9691.000000\n",
       "mean    113.196581\n",
       "std      91.661473\n",
       "min     -19.620000\n",
       "25%      40.705000\n",
       "50%      85.120000\n",
       "75%     154.640000\n",
       "max     697.910000"
      ]
     },
     "execution_count": 127,
     "metadata": {},
     "output_type": "execute_result"
    }
   ],
   "source": [
    "data_oil = concat_files_oil(files_oil_csv)\n",
    "grouped_df = data_oil.groupby('Date')['Price'].sum()\n",
    "\n",
    "sort_grouped_df = grouped_df.sort_values(ascending=True)\n",
    "sort_grouped_df = pd.DataFrame(data=sort_grouped_df)\n",
    "statistics_oil = sort_grouped_df.describe()\n",
    "statistics_oil"
   ]
  },
  {
   "cell_type": "code",
   "execution_count": 52,
   "id": "9908ba2b-05e5-462e-bfab-ba2e472b1ffd",
   "metadata": {
    "tags": []
   },
   "outputs": [
    {
     "data": {
      "text/html": [
       "<div>\n",
       "<style scoped>\n",
       "    .dataframe tbody tr th:only-of-type {\n",
       "        vertical-align: middle;\n",
       "    }\n",
       "\n",
       "    .dataframe tbody tr th {\n",
       "        vertical-align: top;\n",
       "    }\n",
       "\n",
       "    .dataframe thead th {\n",
       "        text-align: right;\n",
       "    }\n",
       "</style>\n",
       "<table border=\"1\" class=\"dataframe\">\n",
       "  <thead>\n",
       "    <tr style=\"text-align: right;\">\n",
       "      <th></th>\n",
       "      <th>Price</th>\n",
       "    </tr>\n",
       "  </thead>\n",
       "  <tbody>\n",
       "    <tr>\n",
       "      <th>25%</th>\n",
       "      <td>40.705</td>\n",
       "    </tr>\n",
       "    <tr>\n",
       "      <th>75%</th>\n",
       "      <td>154.640</td>\n",
       "    </tr>\n",
       "    <tr>\n",
       "      <th>95%</th>\n",
       "      <td>290.100</td>\n",
       "    </tr>\n",
       "  </tbody>\n",
       "</table>\n",
       "</div>"
      ],
      "text/plain": [
       "       Price\n",
       "25%   40.705\n",
       "75%  154.640\n",
       "95%  290.100"
      ]
     },
     "execution_count": 52,
     "metadata": {},
     "output_type": "execute_result"
    }
   ],
   "source": [
    "data_quantile = pd.DataFrame(np.zeros((3,1)), columns = ['Price'], index = ['25%', '75%', '95%'])\n",
    "\n",
    "for j in ['Price']:\n",
    "    data = sort_grouped_df\n",
    "    data_quantile[j][0] = np.quantile(data, .25)\n",
    "    data_quantile[j][1] = np.quantile(data, .75)\n",
    "    data_quantile[j][2] = np.quantile(data, .95)\n",
    "    \n",
    "data_quantile"
   ]
  },
  {
   "cell_type": "code",
   "execution_count": 53,
   "id": "ba1260dc-c18e-41cc-a0a3-7ed96b5224dd",
   "metadata": {
    "tags": []
   },
   "outputs": [
    {
     "data": {
      "text/html": [
       "<div>\n",
       "<style scoped>\n",
       "    .dataframe tbody tr th:only-of-type {\n",
       "        vertical-align: middle;\n",
       "    }\n",
       "\n",
       "    .dataframe tbody tr th {\n",
       "        vertical-align: top;\n",
       "    }\n",
       "\n",
       "    .dataframe thead th {\n",
       "        text-align: right;\n",
       "    }\n",
       "</style>\n",
       "<table border=\"1\" class=\"dataframe\">\n",
       "  <thead>\n",
       "    <tr style=\"text-align: right;\">\n",
       "      <th></th>\n",
       "      <th>Price</th>\n",
       "    </tr>\n",
       "  </thead>\n",
       "  <tbody>\n",
       "    <tr>\n",
       "      <th>count</th>\n",
       "      <td>9691.000000</td>\n",
       "    </tr>\n",
       "    <tr>\n",
       "      <th>mean</th>\n",
       "      <td>113.196581</td>\n",
       "    </tr>\n",
       "    <tr>\n",
       "      <th>std</th>\n",
       "      <td>91.661473</td>\n",
       "    </tr>\n",
       "    <tr>\n",
       "      <th>min</th>\n",
       "      <td>-19.620000</td>\n",
       "    </tr>\n",
       "    <tr>\n",
       "      <th>25%</th>\n",
       "      <td>40.705000</td>\n",
       "    </tr>\n",
       "    <tr>\n",
       "      <th>50%</th>\n",
       "      <td>85.120000</td>\n",
       "    </tr>\n",
       "    <tr>\n",
       "      <th>75%</th>\n",
       "      <td>154.640000</td>\n",
       "    </tr>\n",
       "    <tr>\n",
       "      <th>max</th>\n",
       "      <td>697.910000</td>\n",
       "    </tr>\n",
       "    <tr>\n",
       "      <th>95%</th>\n",
       "      <td>290.100000</td>\n",
       "    </tr>\n",
       "  </tbody>\n",
       "</table>\n",
       "</div>"
      ],
      "text/plain": [
       "             Price\n",
       "count  9691.000000\n",
       "mean    113.196581\n",
       "std      91.661473\n",
       "min     -19.620000\n",
       "25%      40.705000\n",
       "50%      85.120000\n",
       "75%     154.640000\n",
       "max     697.910000\n",
       "95%     290.100000"
      ]
     },
     "metadata": {},
     "output_type": "display_data"
    }
   ],
   "source": [
    "data_quantile = data_quantile.drop(['25%', '75%'])\n",
    "statistics_oil = pd.concat([statistics_oil, data_quantile], ignore_index=False)\n",
    "display(statistics_oil)"
   ]
  },
  {
   "cell_type": "code",
   "execution_count": 128,
   "id": "d352f688-4dae-478a-86b8-62865ebf78be",
   "metadata": {
    "tags": []
   },
   "outputs": [],
   "source": [
    "statistics_oil.to_csv(\"./tables_and_graphs/statistics_oil.csv\", index = True)\n",
    "statistics_oil.to_excel(\"./tables_and_graphs/statistics_oil.xlsx\", sheet_name=\"Sheet1\", index=False)\n",
    "statistics_oil.to_json(path_or_buf=\"./tables_and_graphs/statistics_oil.json\", orient=\"split\")"
   ]
  },
  {
   "attachments": {},
   "cell_type": "markdown",
   "id": "ee2da19c-49c9-4cb6-a222-d9f1e629b773",
   "metadata": {},
   "source": [
    "**3.2 Інший варіант вибірки.**"
   ]
  },
  {
   "cell_type": "code",
   "execution_count": 129,
   "id": "782d05fc-5425-42ca-97bf-fc3d41623f18",
   "metadata": {
    "tags": []
   },
   "outputs": [
    {
     "name": "stdout",
     "output_type": "stream",
     "text": [
      "Let's describe the data from each file in folder '../src/oil-prices'.\n",
      "\n",
      "# 1 ../src/oil-prices/brent-daily.csv\n",
      "             Price\n",
      "count  9066.000000\n",
      "mean     48.631736\n",
      "std      32.874360\n",
      "min       9.100000\n",
      "25%      19.080000\n",
      "50%      39.410000\n",
      "75%      70.720000\n",
      "max     143.950000\n",
      "95%    111.897500 \n",
      "\n",
      "# 2 ../src/oil-prices/brent-monthly.csv\n",
      "            Price\n",
      "count  429.000000\n",
      "mean    48.671585\n",
      "std     32.933488\n",
      "min      9.820000\n",
      "25%     19.020000\n",
      "50%     39.600000\n",
      "75%     71.230000\n",
      "max    132.720000\n",
      "95%    111.764000 \n",
      "\n",
      "# 3 ../src/oil-prices/brent-weekly.csv\n",
      "             Price\n",
      "count  1865.000000\n",
      "mean     48.709357\n",
      "std      32.972446\n",
      "min       9.440000\n",
      "25%      19.070000\n",
      "50%      39.450000\n",
      "75%      71.020000\n",
      "max     141.070000\n",
      "95%    111.768000 \n",
      "\n",
      "# 4 ../src/oil-prices/brent-year.csv\n",
      "            Price\n",
      "count   36.000000\n",
      "mean    48.351944\n",
      "std     32.390897\n",
      "min     12.760000\n",
      "25%     19.267500\n",
      "50%     40.110000\n",
      "75%     70.980000\n",
      "max    111.630000\n",
      "95%    109.235000 \n",
      "\n",
      "# 5 ../src/oil-prices/wti-daily.csv\n",
      "             Price\n",
      "count  9347.000000\n",
      "mean     46.116338\n",
      "std      29.600880\n",
      "min     -36.980000\n",
      "25%      19.990000\n",
      "50%      36.060000\n",
      "75%      67.360000\n",
      "max     145.310000\n",
      "95%    101.730000 \n",
      "\n",
      "# 6 ../src/oil-prices/wti-monthly.csv\n",
      "            Price\n",
      "count  445.000000\n",
      "mean    46.127326\n",
      "std     29.515293\n",
      "min     11.350000\n",
      "25%     19.950000\n",
      "50%     36.040000\n",
      "75%     67.730000\n",
      "max    133.880000\n",
      "95%    101.748000 \n",
      "\n",
      "# 7 ../src/oil-prices/wti-weekly.csv\n",
      "             Price\n",
      "count  1936.000000\n",
      "mean     46.150511\n",
      "std      29.562021\n",
      "min       3.320000\n",
      "25%      19.990000\n",
      "50%      36.645000\n",
      "75%      67.535000\n",
      "max     142.520000\n",
      "95%    101.967500 \n",
      "\n",
      "# 8 ../src/oil-prices/wti-year.csv\n",
      "           Price\n",
      "count  37.000000\n",
      "mean   46.096216\n",
      "std    28.904254\n",
      "min    14.420000\n",
      "25%    20.580000\n",
      "50%    39.160000\n",
      "75%    66.050000\n",
      "max    99.670000\n",
      "95%    95.516000 \n",
      "\n",
      "The description of all files in folder '../src/oil-prices' is complete.\n"
     ]
    }
   ],
   "source": [
    "print(\"Let's describe the data from each file in folder '../src/oil-prices'.\\n\")\n",
    "for i in range(len(files_oil_csv)):\n",
    "    join_path = os.path.join('../src/oil-prices', files_oil_csv[i])\n",
    "    print('#', i+1, join_path)\n",
    "    \n",
    "    df_oil = pd.read_csv(join_path)\n",
    "    print(df_oil.describe())\n",
    "    print('95%    {:8.6f}'.format(np.quantile(df_oil['Price'], .95)), '\\n')\n",
    "    \n",
    "print(\"The description of all files in folder '../src/oil-prices' is complete.\")"
   ]
  },
  {
   "attachments": {},
   "cell_type": "markdown",
   "id": "2685d93c-a35e-4ea1-a19c-2bb9f35cafac",
   "metadata": {
    "tags": []
   },
   "source": [
    "### Task 3 Показати по роках по кожній країні для вашого варіанта зв'язок між іншими datasets (для яких є дані):"
   ]
  },
  {
   "attachments": {},
   "cell_type": "markdown",
   "id": "026cde76-a723-45d1-9dab-47acd84c11f4",
   "metadata": {
    "tags": []
   },
   "source": [
    "#### I. Зв'язок ціни на нафту з ppp"
   ]
  },
  {
   "cell_type": "code",
   "execution_count": 132,
   "id": "00ae36b6-a2ff-493e-8e02-6705d2e08314",
   "metadata": {
    "tags": []
   },
   "outputs": [
    {
     "name": "stdout",
     "output_type": "stream",
     "text": [
      "The concatenation process in folder '../src/oil-prices' is complete.\n"
     ]
    },
    {
     "data": {
      "text/html": [
       "<div>\n",
       "<style scoped>\n",
       "    .dataframe tbody tr th:only-of-type {\n",
       "        vertical-align: middle;\n",
       "    }\n",
       "\n",
       "    .dataframe tbody tr th {\n",
       "        vertical-align: top;\n",
       "    }\n",
       "\n",
       "    .dataframe thead th {\n",
       "        text-align: right;\n",
       "    }\n",
       "</style>\n",
       "<table border=\"1\" class=\"dataframe\">\n",
       "  <thead>\n",
       "    <tr style=\"text-align: right;\">\n",
       "      <th></th>\n",
       "      <th>Year</th>\n",
       "      <th>Price</th>\n",
       "    </tr>\n",
       "  </thead>\n",
       "  <tbody>\n",
       "    <tr>\n",
       "      <th>0</th>\n",
       "      <td>1986</td>\n",
       "      <td>4759.31</td>\n",
       "    </tr>\n",
       "    <tr>\n",
       "      <th>1</th>\n",
       "      <td>1987</td>\n",
       "      <td>9866.98</td>\n",
       "    </tr>\n",
       "    <tr>\n",
       "      <th>2</th>\n",
       "      <td>1988</td>\n",
       "      <td>9947.21</td>\n",
       "    </tr>\n",
       "    <tr>\n",
       "      <th>3</th>\n",
       "      <td>1989</td>\n",
       "      <td>12139.44</td>\n",
       "    </tr>\n",
       "    <tr>\n",
       "      <th>4</th>\n",
       "      <td>1990</td>\n",
       "      <td>15514.84</td>\n",
       "    </tr>\n",
       "    <tr>\n",
       "      <th>5</th>\n",
       "      <td>1991</td>\n",
       "      <td>13372.36</td>\n",
       "    </tr>\n",
       "    <tr>\n",
       "      <th>6</th>\n",
       "      <td>1992</td>\n",
       "      <td>12845.76</td>\n",
       "    </tr>\n",
       "    <tr>\n",
       "      <th>7</th>\n",
       "      <td>1993</td>\n",
       "      <td>11236.58</td>\n",
       "    </tr>\n",
       "    <tr>\n",
       "      <th>8</th>\n",
       "      <td>1994</td>\n",
       "      <td>10476.60</td>\n",
       "    </tr>\n",
       "    <tr>\n",
       "      <th>9</th>\n",
       "      <td>1995</td>\n",
       "      <td>11236.12</td>\n",
       "    </tr>\n",
       "    <tr>\n",
       "      <th>10</th>\n",
       "      <td>1996</td>\n",
       "      <td>13638.43</td>\n",
       "    </tr>\n",
       "    <tr>\n",
       "      <th>11</th>\n",
       "      <td>1997</td>\n",
       "      <td>12522.66</td>\n",
       "    </tr>\n",
       "    <tr>\n",
       "      <th>12</th>\n",
       "      <td>1998</td>\n",
       "      <td>8622.96</td>\n",
       "    </tr>\n",
       "    <tr>\n",
       "      <th>13</th>\n",
       "      <td>1999</td>\n",
       "      <td>11758.58</td>\n",
       "    </tr>\n",
       "    <tr>\n",
       "      <th>14</th>\n",
       "      <td>2000</td>\n",
       "      <td>18673.50</td>\n",
       "    </tr>\n",
       "    <tr>\n",
       "      <th>15</th>\n",
       "      <td>2001</td>\n",
       "      <td>16057.94</td>\n",
       "    </tr>\n",
       "    <tr>\n",
       "      <th>16</th>\n",
       "      <td>2002</td>\n",
       "      <td>16237.33</td>\n",
       "    </tr>\n",
       "    <tr>\n",
       "      <th>17</th>\n",
       "      <td>2003</td>\n",
       "      <td>19108.70</td>\n",
       "    </tr>\n",
       "    <tr>\n",
       "      <th>18</th>\n",
       "      <td>2004</td>\n",
       "      <td>25567.77</td>\n",
       "    </tr>\n",
       "    <tr>\n",
       "      <th>19</th>\n",
       "      <td>2005</td>\n",
       "      <td>35464.26</td>\n",
       "    </tr>\n",
       "    <tr>\n",
       "      <th>20</th>\n",
       "      <td>2006</td>\n",
       "      <td>41590.86</td>\n",
       "    </tr>\n",
       "    <tr>\n",
       "      <th>21</th>\n",
       "      <td>2007</td>\n",
       "      <td>45740.80</td>\n",
       "    </tr>\n",
       "    <tr>\n",
       "      <th>22</th>\n",
       "      <td>2008</td>\n",
       "      <td>62578.51</td>\n",
       "    </tr>\n",
       "    <tr>\n",
       "      <th>23</th>\n",
       "      <td>2009</td>\n",
       "      <td>39135.40</td>\n",
       "    </tr>\n",
       "    <tr>\n",
       "      <th>24</th>\n",
       "      <td>2010</td>\n",
       "      <td>50582.18</td>\n",
       "    </tr>\n",
       "    <tr>\n",
       "      <th>25</th>\n",
       "      <td>2011</td>\n",
       "      <td>64912.61</td>\n",
       "    </tr>\n",
       "    <tr>\n",
       "      <th>26</th>\n",
       "      <td>2012</td>\n",
       "      <td>64858.01</td>\n",
       "    </tr>\n",
       "    <tr>\n",
       "      <th>27</th>\n",
       "      <td>2013</td>\n",
       "      <td>65472.82</td>\n",
       "    </tr>\n",
       "    <tr>\n",
       "      <th>28</th>\n",
       "      <td>2014</td>\n",
       "      <td>61159.17</td>\n",
       "    </tr>\n",
       "    <tr>\n",
       "      <th>29</th>\n",
       "      <td>2015</td>\n",
       "      <td>32191.67</td>\n",
       "    </tr>\n",
       "    <tr>\n",
       "      <th>30</th>\n",
       "      <td>2016</td>\n",
       "      <td>27760.23</td>\n",
       "    </tr>\n",
       "    <tr>\n",
       "      <th>31</th>\n",
       "      <td>2017</td>\n",
       "      <td>33385.66</td>\n",
       "    </tr>\n",
       "    <tr>\n",
       "      <th>32</th>\n",
       "      <td>2018</td>\n",
       "      <td>43064.44</td>\n",
       "    </tr>\n",
       "    <tr>\n",
       "      <th>33</th>\n",
       "      <td>2019</td>\n",
       "      <td>38650.06</td>\n",
       "    </tr>\n",
       "    <tr>\n",
       "      <th>34</th>\n",
       "      <td>2020</td>\n",
       "      <td>25848.11</td>\n",
       "    </tr>\n",
       "    <tr>\n",
       "      <th>35</th>\n",
       "      <td>2021</td>\n",
       "      <td>44156.98</td>\n",
       "    </tr>\n",
       "    <tr>\n",
       "      <th>36</th>\n",
       "      <td>2022</td>\n",
       "      <td>61977.69</td>\n",
       "    </tr>\n",
       "    <tr>\n",
       "      <th>37</th>\n",
       "      <td>2023</td>\n",
       "      <td>4875.54</td>\n",
       "    </tr>\n",
       "  </tbody>\n",
       "</table>\n",
       "</div>"
      ],
      "text/plain": [
       "    Year     Price\n",
       "0   1986   4759.31\n",
       "1   1987   9866.98\n",
       "2   1988   9947.21\n",
       "3   1989  12139.44\n",
       "4   1990  15514.84\n",
       "5   1991  13372.36\n",
       "6   1992  12845.76\n",
       "7   1993  11236.58\n",
       "8   1994  10476.60\n",
       "9   1995  11236.12\n",
       "10  1996  13638.43\n",
       "11  1997  12522.66\n",
       "12  1998   8622.96\n",
       "13  1999  11758.58\n",
       "14  2000  18673.50\n",
       "15  2001  16057.94\n",
       "16  2002  16237.33\n",
       "17  2003  19108.70\n",
       "18  2004  25567.77\n",
       "19  2005  35464.26\n",
       "20  2006  41590.86\n",
       "21  2007  45740.80\n",
       "22  2008  62578.51\n",
       "23  2009  39135.40\n",
       "24  2010  50582.18\n",
       "25  2011  64912.61\n",
       "26  2012  64858.01\n",
       "27  2013  65472.82\n",
       "28  2014  61159.17\n",
       "29  2015  32191.67\n",
       "30  2016  27760.23\n",
       "31  2017  33385.66\n",
       "32  2018  43064.44\n",
       "33  2019  38650.06\n",
       "34  2020  25848.11\n",
       "35  2021  44156.98\n",
       "36  2022  61977.69\n",
       "37  2023   4875.54"
      ]
     },
     "execution_count": 132,
     "metadata": {},
     "output_type": "execute_result"
    }
   ],
   "source": [
    "data_oil = concat_files_oil(files_oil_csv)  \n",
    "grouped_df_oil = data_oil.groupby('Date')['Price'].sum()\n",
    "\n",
    "date_df = grouped_df_oil.index\n",
    "list_years = []\n",
    "for element in date_df:\n",
    "    list_years.append(int(element[:4])) \n",
    "    \n",
    "grouped_df_oil = pd.DataFrame(data=grouped_df_oil)\n",
    "grouped_df_oil[\"Year\"] = list_years\n",
    "grouped_df_oil = grouped_df_oil.reset_index()\n",
    "grouped_df_oil = grouped_df_oil.drop(['Date'], axis=1)\n",
    "grouped_df_oil = grouped_df_oil.groupby('Year')['Price'].sum()\n",
    "grouped_df_oil = pd.DataFrame(data=grouped_df_oil)\n",
    "grouped_df_oil = grouped_df_oil.reset_index()\n",
    "grouped_df_oil"
   ]
  },
  {
   "cell_type": "code",
   "execution_count": 60,
   "id": "9aadaa4a-1709-469f-a997-45910eb66aab",
   "metadata": {
    "tags": []
   },
   "outputs": [
    {
     "data": {
      "text/html": [
       "<div>\n",
       "<style scoped>\n",
       "    .dataframe tbody tr th:only-of-type {\n",
       "        vertical-align: middle;\n",
       "    }\n",
       "\n",
       "    .dataframe tbody tr th {\n",
       "        vertical-align: top;\n",
       "    }\n",
       "\n",
       "    .dataframe thead th {\n",
       "        text-align: right;\n",
       "    }\n",
       "</style>\n",
       "<table border=\"1\" class=\"dataframe\">\n",
       "  <thead>\n",
       "    <tr style=\"text-align: right;\">\n",
       "      <th></th>\n",
       "      <th>Country</th>\n",
       "      <th>Country ID</th>\n",
       "      <th>Year</th>\n",
       "      <th>PPP</th>\n",
       "    </tr>\n",
       "  </thead>\n",
       "  <tbody>\n",
       "    <tr>\n",
       "      <th>1977</th>\n",
       "      <td>South Sudan</td>\n",
       "      <td>SS</td>\n",
       "      <td>2015</td>\n",
       "      <td>3.268295</td>\n",
       "    </tr>\n",
       "    <tr>\n",
       "      <th>1978</th>\n",
       "      <td>South Sudan</td>\n",
       "      <td>SS</td>\n",
       "      <td>2014</td>\n",
       "      <td>2.609358</td>\n",
       "    </tr>\n",
       "    <tr>\n",
       "      <th>1979</th>\n",
       "      <td>South Sudan</td>\n",
       "      <td>SS</td>\n",
       "      <td>2013</td>\n",
       "      <td>2.500641</td>\n",
       "    </tr>\n",
       "  </tbody>\n",
       "</table>\n",
       "</div>"
      ],
      "text/plain": [
       "          Country Country ID  Year       PPP\n",
       "1977  South Sudan         SS  2015  3.268295\n",
       "1978  South Sudan         SS  2014  2.609358\n",
       "1979  South Sudan         SS  2013  2.500641"
      ]
     },
     "metadata": {},
     "output_type": "display_data"
    }
   ],
   "source": [
    "data_ppp = pd.read_csv('../src/ppp/ppp-gdp.csv')\n",
    "data_ppp_filtered = data_ppp.query(' `Country` in @filter_country ')\n",
    "display(data_ppp_filtered.head(3))"
   ]
  },
  {
   "cell_type": "code",
   "execution_count": 61,
   "id": "7e8be88c-2748-4c18-a2e3-c241f4e386ff",
   "metadata": {
    "tags": []
   },
   "outputs": [
    {
     "data": {
      "text/plain": [
       "array(['South Sudan', 'China', 'Mexico'], dtype=object)"
      ]
     },
     "execution_count": 61,
     "metadata": {},
     "output_type": "execute_result"
    }
   ],
   "source": [
    "data_ppp_filtered['Country'].unique()"
   ]
  },
  {
   "cell_type": "code",
   "execution_count": 136,
   "id": "2c75c13d-cad9-4dd6-9afb-838f23501637",
   "metadata": {
    "tags": []
   },
   "outputs": [
    {
     "data": {
      "text/html": [
       "<div>\n",
       "<style scoped>\n",
       "    .dataframe tbody tr th:only-of-type {\n",
       "        vertical-align: middle;\n",
       "    }\n",
       "\n",
       "    .dataframe tbody tr th {\n",
       "        vertical-align: top;\n",
       "    }\n",
       "\n",
       "    .dataframe thead th {\n",
       "        text-align: right;\n",
       "    }\n",
       "</style>\n",
       "<table border=\"1\" class=\"dataframe\">\n",
       "  <thead>\n",
       "    <tr style=\"text-align: right;\">\n",
       "      <th></th>\n",
       "      <th>Year</th>\n",
       "      <th>Price of oil</th>\n",
       "      <th>PPP</th>\n",
       "    </tr>\n",
       "  </thead>\n",
       "  <tbody>\n",
       "    <tr>\n",
       "      <th>0</th>\n",
       "      <td>1990</td>\n",
       "      <td>15514.84</td>\n",
       "      <td>3.040496</td>\n",
       "    </tr>\n",
       "    <tr>\n",
       "      <th>1</th>\n",
       "      <td>1991</td>\n",
       "      <td>13372.36</td>\n",
       "      <td>3.353887</td>\n",
       "    </tr>\n",
       "    <tr>\n",
       "      <th>2</th>\n",
       "      <td>1992</td>\n",
       "      <td>12845.76</td>\n",
       "      <td>3.645365</td>\n",
       "    </tr>\n",
       "  </tbody>\n",
       "</table>\n",
       "</div>"
      ],
      "text/plain": [
       "   Year  Price of oil       PPP\n",
       "0  1990      15514.84  3.040496\n",
       "1  1991      13372.36  3.353887\n",
       "2  1992      12845.76  3.645365"
      ]
     },
     "execution_count": 136,
     "metadata": {},
     "output_type": "execute_result"
    }
   ],
   "source": [
    "group_ppp = data_ppp_filtered.groupby('Year')['PPP'].sum()\n",
    "group_ppp = pd.DataFrame(data=group_ppp)\n",
    "group_ppp = group_ppp.reset_index()\n",
    "df_merged = pd.merge(grouped_df_oil, group_ppp, left_on='Year', right_on='Year')\n",
    "df_merged.rename(columns = {'Price':'Price of oil'}, inplace = True)\n",
    "df_merged = df_merged.reindex(columns=['Year','Price of oil','PPP'])\n",
    "df_merged.head(3)"
   ]
  },
  {
   "attachments": {},
   "cell_type": "markdown",
   "id": "ec820e36-7785-41a0-87fb-634316e43a90",
   "metadata": {},
   "source": [
    "Обчислимо парну кореляцію стовпців **'Price of oil'** та **'PPP'**."
   ]
  },
  {
   "cell_type": "code",
   "execution_count": 65,
   "id": "76702625-5687-455a-bdca-4d1e565b4f5e",
   "metadata": {
    "tags": []
   },
   "outputs": [
    {
     "data": {
      "text/html": [
       "<div>\n",
       "<style scoped>\n",
       "    .dataframe tbody tr th:only-of-type {\n",
       "        vertical-align: middle;\n",
       "    }\n",
       "\n",
       "    .dataframe tbody tr th {\n",
       "        vertical-align: top;\n",
       "    }\n",
       "\n",
       "    .dataframe thead th {\n",
       "        text-align: right;\n",
       "    }\n",
       "</style>\n",
       "<table border=\"1\" class=\"dataframe\">\n",
       "  <thead>\n",
       "    <tr style=\"text-align: right;\">\n",
       "      <th></th>\n",
       "      <th>Price of oil</th>\n",
       "      <th>PPP</th>\n",
       "    </tr>\n",
       "  </thead>\n",
       "  <tbody>\n",
       "    <tr>\n",
       "      <th>Price of oil</th>\n",
       "      <td>1.000000</td>\n",
       "      <td>0.755481</td>\n",
       "    </tr>\n",
       "    <tr>\n",
       "      <th>PPP</th>\n",
       "      <td>0.755481</td>\n",
       "      <td>1.000000</td>\n",
       "    </tr>\n",
       "  </tbody>\n",
       "</table>\n",
       "</div>"
      ],
      "text/plain": [
       "              Price of oil       PPP\n",
       "Price of oil      1.000000  0.755481\n",
       "PPP               0.755481  1.000000"
      ]
     },
     "execution_count": 65,
     "metadata": {},
     "output_type": "execute_result"
    }
   ],
   "source": [
    "columns = ['Price of oil', 'PPP']\n",
    "correlation_oil_ppp =  df_merged[columns].corr()\n",
    "correlation_oil_ppp"
   ]
  },
  {
   "cell_type": "code",
   "execution_count": 137,
   "id": "bc84e7f6-5860-4c5d-9a92-d135a138a84f",
   "metadata": {
    "tags": []
   },
   "outputs": [],
   "source": [
    "correlation_oil_ppp.to_csv(\"./tables_and_graphs/correlation_oil_ppp.csv\", index = False)\n",
    "correlation_oil_ppp.to_excel(\"./tables_and_graphs/correlation_oil_ppp.xlsx\", sheet_name=\"Sheet1\", index=False)\n",
    "correlation_oil_ppp.to_json(path_or_buf=\"./tables_and_graphs/correlation_oil_ppp.json\", orient=\"split\")"
   ]
  },
  {
   "attachments": {},
   "cell_type": "markdown",
   "id": "fe52d849-57ab-45cf-a9ed-d508cb938532",
   "metadata": {},
   "source": [
    "#### II. Відсоток **ppp** окремої країни до середнього **ppp** всіх країн за рік"
   ]
  },
  {
   "cell_type": "code",
   "execution_count": 139,
   "id": "91135d29-1d92-49db-aed3-195efa12ba0d",
   "metadata": {
    "tags": []
   },
   "outputs": [
    {
     "name": "stdout",
     "output_type": "stream",
     "text": [
      "32\n"
     ]
    },
    {
     "data": {
      "text/plain": [
       "array([2015, 2014, 2013, 2012, 2011, 2010, 2009, 2008, 2021, 2020, 2019,\n",
       "       2018, 2017, 2016, 2007, 2006, 2005, 2004, 2003, 2002, 2001, 2000,\n",
       "       1999, 1998, 1997, 1996, 1995, 1994, 1993, 1992, 1991, 1990])"
      ]
     },
     "execution_count": 139,
     "metadata": {},
     "output_type": "execute_result"
    }
   ],
   "source": [
    "data_ppp = pd.read_csv('../src/ppp/ppp-gdp.csv')\n",
    "data_ppp_filtered = data_ppp.query(' `Country` in @filter_country ')\n",
    "data_ppp_filtered['Country'].unique()\n",
    "years = data_ppp_filtered['Year'].unique()\n",
    "print(len(years))\n",
    "years"
   ]
  },
  {
   "cell_type": "code",
   "execution_count": 80,
   "id": "fdc26c26-4c13-433c-80e8-dd6882c6c7f3",
   "metadata": {
    "tags": []
   },
   "outputs": [],
   "source": [
    "def percentage_country_to_avg(dataframe, country, year):\n",
    "    filt_year = year\n",
    "    filt_country = country\n",
    "    df_country = dataframe.query('Year == @filt_year & Country == @filt_country') \n",
    "    df_country = df_country[['Country', 'Year', 'PPP']]\n",
    "    ppp_value = df_country['PPP'].values\n",
    "    \n",
    "    if not ppp_value:\n",
    "        ppp_value = 0\n",
    "    if ppp_value:\n",
    "        ppp_value = float(ppp_value)\n",
    "    \n",
    "    df_countries = dataframe.query('Year == @filt_year') \n",
    "    df_countries = df_countries[['Country', 'Year', 'PPP']]\n",
    "    df_countries_avg = df_countries['PPP'].mean(axis=0)\n",
    "    ans = ppp_value / df_countries_avg * 100\n",
    "    \n",
    "    return ans"
   ]
  },
  {
   "cell_type": "code",
   "execution_count": 140,
   "id": "19978ecc-2a7a-404e-a1b0-3ac99a1ce58f",
   "metadata": {
    "tags": []
   },
   "outputs": [
    {
     "name": "stderr",
     "output_type": "stream",
     "text": [
      "/tmp/ipykernel_4727/2883136135.py:11: DeprecationWarning: The truth value of an empty array is ambiguous. Returning False, but in future this will result in an error. Use `array.size > 0` to check that an array is not empty.\n",
      "  if not ppp_value:\n",
      "/tmp/ipykernel_4727/2883136135.py:11: DeprecationWarning: The truth value of an empty array is ambiguous. Returning False, but in future this will result in an error. Use `array.size > 0` to check that an array is not empty.\n",
      "  if not ppp_value:\n",
      "/tmp/ipykernel_4727/2883136135.py:11: DeprecationWarning: The truth value of an empty array is ambiguous. Returning False, but in future this will result in an error. Use `array.size > 0` to check that an array is not empty.\n",
      "  if not ppp_value:\n",
      "/tmp/ipykernel_4727/2883136135.py:11: DeprecationWarning: The truth value of an empty array is ambiguous. Returning False, but in future this will result in an error. Use `array.size > 0` to check that an array is not empty.\n",
      "  if not ppp_value:\n",
      "/tmp/ipykernel_4727/2883136135.py:11: DeprecationWarning: The truth value of an empty array is ambiguous. Returning False, but in future this will result in an error. Use `array.size > 0` to check that an array is not empty.\n",
      "  if not ppp_value:\n",
      "/tmp/ipykernel_4727/2883136135.py:11: DeprecationWarning: The truth value of an empty array is ambiguous. Returning False, but in future this will result in an error. Use `array.size > 0` to check that an array is not empty.\n",
      "  if not ppp_value:\n",
      "/tmp/ipykernel_4727/2883136135.py:11: DeprecationWarning: The truth value of an empty array is ambiguous. Returning False, but in future this will result in an error. Use `array.size > 0` to check that an array is not empty.\n",
      "  if not ppp_value:\n",
      "/tmp/ipykernel_4727/2883136135.py:11: DeprecationWarning: The truth value of an empty array is ambiguous. Returning False, but in future this will result in an error. Use `array.size > 0` to check that an array is not empty.\n",
      "  if not ppp_value:\n",
      "/tmp/ipykernel_4727/2883136135.py:11: DeprecationWarning: The truth value of an empty array is ambiguous. Returning False, but in future this will result in an error. Use `array.size > 0` to check that an array is not empty.\n",
      "  if not ppp_value:\n",
      "/tmp/ipykernel_4727/2883136135.py:11: DeprecationWarning: The truth value of an empty array is ambiguous. Returning False, but in future this will result in an error. Use `array.size > 0` to check that an array is not empty.\n",
      "  if not ppp_value:\n",
      "/tmp/ipykernel_4727/2883136135.py:11: DeprecationWarning: The truth value of an empty array is ambiguous. Returning False, but in future this will result in an error. Use `array.size > 0` to check that an array is not empty.\n",
      "  if not ppp_value:\n",
      "/tmp/ipykernel_4727/2883136135.py:11: DeprecationWarning: The truth value of an empty array is ambiguous. Returning False, but in future this will result in an error. Use `array.size > 0` to check that an array is not empty.\n",
      "  if not ppp_value:\n",
      "/tmp/ipykernel_4727/2883136135.py:11: DeprecationWarning: The truth value of an empty array is ambiguous. Returning False, but in future this will result in an error. Use `array.size > 0` to check that an array is not empty.\n",
      "  if not ppp_value:\n",
      "/tmp/ipykernel_4727/2883136135.py:11: DeprecationWarning: The truth value of an empty array is ambiguous. Returning False, but in future this will result in an error. Use `array.size > 0` to check that an array is not empty.\n",
      "  if not ppp_value:\n",
      "/tmp/ipykernel_4727/2883136135.py:11: DeprecationWarning: The truth value of an empty array is ambiguous. Returning False, but in future this will result in an error. Use `array.size > 0` to check that an array is not empty.\n",
      "  if not ppp_value:\n",
      "/tmp/ipykernel_4727/2883136135.py:11: DeprecationWarning: The truth value of an empty array is ambiguous. Returning False, but in future this will result in an error. Use `array.size > 0` to check that an array is not empty.\n",
      "  if not ppp_value:\n",
      "/tmp/ipykernel_4727/2883136135.py:11: DeprecationWarning: The truth value of an empty array is ambiguous. Returning False, but in future this will result in an error. Use `array.size > 0` to check that an array is not empty.\n",
      "  if not ppp_value:\n",
      "/tmp/ipykernel_4727/2883136135.py:11: DeprecationWarning: The truth value of an empty array is ambiguous. Returning False, but in future this will result in an error. Use `array.size > 0` to check that an array is not empty.\n",
      "  if not ppp_value:\n",
      "/tmp/ipykernel_4727/2883136135.py:11: DeprecationWarning: The truth value of an empty array is ambiguous. Returning False, but in future this will result in an error. Use `array.size > 0` to check that an array is not empty.\n",
      "  if not ppp_value:\n",
      "/tmp/ipykernel_4727/2883136135.py:11: DeprecationWarning: The truth value of an empty array is ambiguous. Returning False, but in future this will result in an error. Use `array.size > 0` to check that an array is not empty.\n",
      "  if not ppp_value:\n",
      "/tmp/ipykernel_4727/2883136135.py:11: DeprecationWarning: The truth value of an empty array is ambiguous. Returning False, but in future this will result in an error. Use `array.size > 0` to check that an array is not empty.\n",
      "  if not ppp_value:\n",
      "/tmp/ipykernel_4727/2883136135.py:11: DeprecationWarning: The truth value of an empty array is ambiguous. Returning False, but in future this will result in an error. Use `array.size > 0` to check that an array is not empty.\n",
      "  if not ppp_value:\n",
      "/tmp/ipykernel_4727/2883136135.py:11: DeprecationWarning: The truth value of an empty array is ambiguous. Returning False, but in future this will result in an error. Use `array.size > 0` to check that an array is not empty.\n",
      "  if not ppp_value:\n",
      "/tmp/ipykernel_4727/2883136135.py:11: DeprecationWarning: The truth value of an empty array is ambiguous. Returning False, but in future this will result in an error. Use `array.size > 0` to check that an array is not empty.\n",
      "  if not ppp_value:\n"
     ]
    },
    {
     "data": {
      "text/html": [
       "<div>\n",
       "<style scoped>\n",
       "    .dataframe tbody tr th:only-of-type {\n",
       "        vertical-align: middle;\n",
       "    }\n",
       "\n",
       "    .dataframe tbody tr th {\n",
       "        vertical-align: top;\n",
       "    }\n",
       "\n",
       "    .dataframe thead th {\n",
       "        text-align: right;\n",
       "    }\n",
       "</style>\n",
       "<table border=\"1\" class=\"dataframe\">\n",
       "  <thead>\n",
       "    <tr style=\"text-align: right;\">\n",
       "      <th></th>\n",
       "      <th>South Sudan</th>\n",
       "      <th>Mexico</th>\n",
       "      <th>China</th>\n",
       "    </tr>\n",
       "  </thead>\n",
       "  <tbody>\n",
       "    <tr>\n",
       "      <th>2015</th>\n",
       "      <td>63.393982</td>\n",
       "      <td>161.527454</td>\n",
       "      <td>75.078564</td>\n",
       "    </tr>\n",
       "    <tr>\n",
       "      <th>2014</th>\n",
       "      <td>54.310608</td>\n",
       "      <td>167.453505</td>\n",
       "      <td>78.235886</td>\n",
       "    </tr>\n",
       "    <tr>\n",
       "      <th>2013</th>\n",
       "      <td>53.399619</td>\n",
       "      <td>168.365543</td>\n",
       "      <td>78.234838</td>\n",
       "    </tr>\n",
       "    <tr>\n",
       "      <th>2012</th>\n",
       "      <td>50.127345</td>\n",
       "      <td>171.955513</td>\n",
       "      <td>77.917142</td>\n",
       "    </tr>\n",
       "    <tr>\n",
       "      <th>2011</th>\n",
       "      <td>37.372510</td>\n",
       "      <td>179.964065</td>\n",
       "      <td>82.663425</td>\n",
       "    </tr>\n",
       "    <tr>\n",
       "      <th>2010</th>\n",
       "      <td>28.856248</td>\n",
       "      <td>189.152640</td>\n",
       "      <td>81.991112</td>\n",
       "    </tr>\n",
       "    <tr>\n",
       "      <th>2009</th>\n",
       "      <td>27.069531</td>\n",
       "      <td>191.665931</td>\n",
       "      <td>81.264539</td>\n",
       "    </tr>\n",
       "    <tr>\n",
       "      <th>2008</th>\n",
       "      <td>30.348210</td>\n",
       "      <td>189.153155</td>\n",
       "      <td>80.498635</td>\n",
       "    </tr>\n",
       "    <tr>\n",
       "      <th>2021</th>\n",
       "      <td>0.000000</td>\n",
       "      <td>141.150405</td>\n",
       "      <td>58.849595</td>\n",
       "    </tr>\n",
       "    <tr>\n",
       "      <th>2020</th>\n",
       "      <td>0.000000</td>\n",
       "      <td>139.795159</td>\n",
       "      <td>60.204841</td>\n",
       "    </tr>\n",
       "    <tr>\n",
       "      <th>2019</th>\n",
       "      <td>0.000000</td>\n",
       "      <td>139.267043</td>\n",
       "      <td>60.732957</td>\n",
       "    </tr>\n",
       "    <tr>\n",
       "      <th>2018</th>\n",
       "      <td>0.000000</td>\n",
       "      <td>137.371013</td>\n",
       "      <td>62.628987</td>\n",
       "    </tr>\n",
       "    <tr>\n",
       "      <th>2017</th>\n",
       "      <td>0.000000</td>\n",
       "      <td>136.112160</td>\n",
       "      <td>63.887840</td>\n",
       "    </tr>\n",
       "    <tr>\n",
       "      <th>2016</th>\n",
       "      <td>0.000000</td>\n",
       "      <td>135.844380</td>\n",
       "      <td>64.155620</td>\n",
       "    </tr>\n",
       "    <tr>\n",
       "      <th>2007</th>\n",
       "      <td>0.000000</td>\n",
       "      <td>142.067821</td>\n",
       "      <td>57.932179</td>\n",
       "    </tr>\n",
       "    <tr>\n",
       "      <th>2006</th>\n",
       "      <td>0.000000</td>\n",
       "      <td>142.820603</td>\n",
       "      <td>57.179397</td>\n",
       "    </tr>\n",
       "    <tr>\n",
       "      <th>2005</th>\n",
       "      <td>0.000000</td>\n",
       "      <td>142.988900</td>\n",
       "      <td>57.011100</td>\n",
       "    </tr>\n",
       "    <tr>\n",
       "      <th>2004</th>\n",
       "      <td>0.000000</td>\n",
       "      <td>142.477294</td>\n",
       "      <td>57.522706</td>\n",
       "    </tr>\n",
       "    <tr>\n",
       "      <th>2003</th>\n",
       "      <td>0.000000</td>\n",
       "      <td>142.091455</td>\n",
       "      <td>57.908545</td>\n",
       "    </tr>\n",
       "    <tr>\n",
       "      <th>2002</th>\n",
       "      <td>0.000000</td>\n",
       "      <td>141.776886</td>\n",
       "      <td>58.223114</td>\n",
       "    </tr>\n",
       "    <tr>\n",
       "      <th>2001</th>\n",
       "      <td>0.000000</td>\n",
       "      <td>139.931860</td>\n",
       "      <td>60.068140</td>\n",
       "    </tr>\n",
       "    <tr>\n",
       "      <th>2000</th>\n",
       "      <td>0.000000</td>\n",
       "      <td>138.305876</td>\n",
       "      <td>61.694124</td>\n",
       "    </tr>\n",
       "    <tr>\n",
       "      <th>1999</th>\n",
       "      <td>0.000000</td>\n",
       "      <td>134.752036</td>\n",
       "      <td>65.247964</td>\n",
       "    </tr>\n",
       "    <tr>\n",
       "      <th>1998</th>\n",
       "      <td>0.000000</td>\n",
       "      <td>127.439654</td>\n",
       "      <td>72.560346</td>\n",
       "    </tr>\n",
       "    <tr>\n",
       "      <th>1997</th>\n",
       "      <td>0.000000</td>\n",
       "      <td>120.250655</td>\n",
       "      <td>79.749345</td>\n",
       "    </tr>\n",
       "    <tr>\n",
       "      <th>1996</th>\n",
       "      <td>0.000000</td>\n",
       "      <td>112.677371</td>\n",
       "      <td>87.322629</td>\n",
       "    </tr>\n",
       "    <tr>\n",
       "      <th>1995</th>\n",
       "      <td>0.000000</td>\n",
       "      <td>104.123911</td>\n",
       "      <td>95.876089</td>\n",
       "    </tr>\n",
       "    <tr>\n",
       "      <th>1994</th>\n",
       "      <td>0.000000</td>\n",
       "      <td>94.264890</td>\n",
       "      <td>105.735110</td>\n",
       "    </tr>\n",
       "    <tr>\n",
       "      <th>1993</th>\n",
       "      <td>0.000000</td>\n",
       "      <td>99.409200</td>\n",
       "      <td>100.590800</td>\n",
       "    </tr>\n",
       "    <tr>\n",
       "      <th>1992</th>\n",
       "      <td>0.000000</td>\n",
       "      <td>98.518311</td>\n",
       "      <td>101.481689</td>\n",
       "    </tr>\n",
       "    <tr>\n",
       "      <th>1991</th>\n",
       "      <td>0.000000</td>\n",
       "      <td>95.725533</td>\n",
       "      <td>104.274467</td>\n",
       "    </tr>\n",
       "    <tr>\n",
       "      <th>1990</th>\n",
       "      <td>0.000000</td>\n",
       "      <td>88.569959</td>\n",
       "      <td>111.430041</td>\n",
       "    </tr>\n",
       "  </tbody>\n",
       "</table>\n",
       "</div>"
      ],
      "text/plain": [
       "      South Sudan      Mexico       China\n",
       "2015    63.393982  161.527454   75.078564\n",
       "2014    54.310608  167.453505   78.235886\n",
       "2013    53.399619  168.365543   78.234838\n",
       "2012    50.127345  171.955513   77.917142\n",
       "2011    37.372510  179.964065   82.663425\n",
       "2010    28.856248  189.152640   81.991112\n",
       "2009    27.069531  191.665931   81.264539\n",
       "2008    30.348210  189.153155   80.498635\n",
       "2021     0.000000  141.150405   58.849595\n",
       "2020     0.000000  139.795159   60.204841\n",
       "2019     0.000000  139.267043   60.732957\n",
       "2018     0.000000  137.371013   62.628987\n",
       "2017     0.000000  136.112160   63.887840\n",
       "2016     0.000000  135.844380   64.155620\n",
       "2007     0.000000  142.067821   57.932179\n",
       "2006     0.000000  142.820603   57.179397\n",
       "2005     0.000000  142.988900   57.011100\n",
       "2004     0.000000  142.477294   57.522706\n",
       "2003     0.000000  142.091455   57.908545\n",
       "2002     0.000000  141.776886   58.223114\n",
       "2001     0.000000  139.931860   60.068140\n",
       "2000     0.000000  138.305876   61.694124\n",
       "1999     0.000000  134.752036   65.247964\n",
       "1998     0.000000  127.439654   72.560346\n",
       "1997     0.000000  120.250655   79.749345\n",
       "1996     0.000000  112.677371   87.322629\n",
       "1995     0.000000  104.123911   95.876089\n",
       "1994     0.000000   94.264890  105.735110\n",
       "1993     0.000000   99.409200  100.590800\n",
       "1992     0.000000   98.518311  101.481689\n",
       "1991     0.000000   95.725533  104.274467\n",
       "1990     0.000000   88.569959  111.430041"
      ]
     },
     "execution_count": 140,
     "metadata": {},
     "output_type": "execute_result"
    }
   ],
   "source": [
    "df_percentage_ppp = pd.DataFrame(np.zeros((len(years),len(filter_country))), columns=filter_country, index=years)\n",
    "\n",
    "for year in years:\n",
    "    for country in filter_country:\n",
    "        df_percentage_ppp[country][year] = percentage_country_to_avg(data_ppp_filtered, country, year)\n",
    "        \n",
    "df_percentage_ppp"
   ]
  },
  {
   "cell_type": "code",
   "execution_count": 141,
   "id": "af71d3be-5362-4772-82d7-056b1868cc56",
   "metadata": {
    "tags": []
   },
   "outputs": [],
   "source": [
    "df_percentage_ppp.to_csv(\"./tables_and_graphs/df_percentage_ppp.csv\", index = True)\n",
    "df_percentage_ppp.to_excel(\"./tables_and_graphs/df_percentage_ppp.xlsx\", sheet_name=\"Sheet1\", index=False)\n",
    "df_percentage_ppp.to_json(path_or_buf=\"./tables_and_graphs/df_percentage_ppp.json\", orient=\"split\")"
   ]
  },
  {
   "attachments": {},
   "cell_type": "markdown",
   "id": "441e0b9b-181d-445b-83a9-56a530b90d93",
   "metadata": {},
   "source": [
    "#### III. Зв'язок популяції та ppp"
   ]
  },
  {
   "cell_type": "code",
   "execution_count": 144,
   "id": "bf7be716-6660-42b8-8c1d-580a625a1e94",
   "metadata": {
    "tags": []
   },
   "outputs": [
    {
     "data": {
      "text/html": [
       "<div>\n",
       "<style scoped>\n",
       "    .dataframe tbody tr th:only-of-type {\n",
       "        vertical-align: middle;\n",
       "    }\n",
       "\n",
       "    .dataframe tbody tr th {\n",
       "        vertical-align: top;\n",
       "    }\n",
       "\n",
       "    .dataframe thead th {\n",
       "        text-align: right;\n",
       "    }\n",
       "</style>\n",
       "<table border=\"1\" class=\"dataframe\">\n",
       "  <thead>\n",
       "    <tr style=\"text-align: right;\">\n",
       "      <th></th>\n",
       "      <th>Country Name</th>\n",
       "      <th>Value</th>\n",
       "    </tr>\n",
       "  </thead>\n",
       "  <tbody>\n",
       "    <tr>\n",
       "      <th>0</th>\n",
       "      <td>China</td>\n",
       "      <td>63874465000</td>\n",
       "    </tr>\n",
       "    <tr>\n",
       "      <th>1</th>\n",
       "      <td>Mexico</td>\n",
       "      <td>4820436994</td>\n",
       "    </tr>\n",
       "    <tr>\n",
       "      <th>2</th>\n",
       "      <td>South Sudan</td>\n",
       "      <td>343950195</td>\n",
       "    </tr>\n",
       "  </tbody>\n",
       "</table>\n",
       "</div>"
      ],
      "text/plain": [
       "  Country Name        Value\n",
       "0        China  63874465000\n",
       "1       Mexico   4820436994\n",
       "2  South Sudan    343950195"
      ]
     },
     "metadata": {},
     "output_type": "display_data"
    },
    {
     "data": {
      "text/html": [
       "<div>\n",
       "<style scoped>\n",
       "    .dataframe tbody tr th:only-of-type {\n",
       "        vertical-align: middle;\n",
       "    }\n",
       "\n",
       "    .dataframe tbody tr th {\n",
       "        vertical-align: top;\n",
       "    }\n",
       "\n",
       "    .dataframe thead th {\n",
       "        text-align: right;\n",
       "    }\n",
       "</style>\n",
       "<table border=\"1\" class=\"dataframe\">\n",
       "  <thead>\n",
       "    <tr style=\"text-align: right;\">\n",
       "      <th></th>\n",
       "      <th>Country</th>\n",
       "      <th>Population</th>\n",
       "    </tr>\n",
       "  </thead>\n",
       "  <tbody>\n",
       "    <tr>\n",
       "      <th>0</th>\n",
       "      <td>China</td>\n",
       "      <td>63874465000</td>\n",
       "    </tr>\n",
       "    <tr>\n",
       "      <th>1</th>\n",
       "      <td>Mexico</td>\n",
       "      <td>4820436994</td>\n",
       "    </tr>\n",
       "    <tr>\n",
       "      <th>2</th>\n",
       "      <td>South Sudan</td>\n",
       "      <td>343950195</td>\n",
       "    </tr>\n",
       "  </tbody>\n",
       "</table>\n",
       "</div>"
      ],
      "text/plain": [
       "       Country   Population\n",
       "0        China  63874465000\n",
       "1       Mexico   4820436994\n",
       "2  South Sudan    343950195"
      ]
     },
     "metadata": {},
     "output_type": "display_data"
    }
   ],
   "source": [
    "data_population = pd.read_csv('../src/population/population.csv')\n",
    "data_population_filtered = data_population.query('`Country Name` in @filter_country')\n",
    "group_population = data_population_filtered.groupby('Country Name')['Value'].sum()\n",
    "group_population = pd.DataFrame(data = group_population)\n",
    "group_population = group_population.reset_index()\n",
    "display(group_population)\n",
    "\n",
    "group_population.rename(columns = {'Country Name':'Country', 'Value':'Population'}, inplace = True)\n",
    "display(group_population)"
   ]
  },
  {
   "cell_type": "code",
   "execution_count": 145,
   "id": "cbc90435-ceed-4cd8-a924-c03d28e2fbb9",
   "metadata": {
    "tags": []
   },
   "outputs": [
    {
     "data": {
      "text/html": [
       "<div>\n",
       "<style scoped>\n",
       "    .dataframe tbody tr th:only-of-type {\n",
       "        vertical-align: middle;\n",
       "    }\n",
       "\n",
       "    .dataframe tbody tr th {\n",
       "        vertical-align: top;\n",
       "    }\n",
       "\n",
       "    .dataframe thead th {\n",
       "        text-align: right;\n",
       "    }\n",
       "</style>\n",
       "<table border=\"1\" class=\"dataframe\">\n",
       "  <thead>\n",
       "    <tr style=\"text-align: right;\">\n",
       "      <th></th>\n",
       "      <th>Country</th>\n",
       "      <th>PPP</th>\n",
       "    </tr>\n",
       "  </thead>\n",
       "  <tbody>\n",
       "    <tr>\n",
       "      <th>0</th>\n",
       "      <td>China</td>\n",
       "      <td>99.203980</td>\n",
       "    </tr>\n",
       "    <tr>\n",
       "      <th>1</th>\n",
       "      <td>Mexico</td>\n",
       "      <td>203.199845</td>\n",
       "    </tr>\n",
       "    <tr>\n",
       "      <th>2</th>\n",
       "      <td>South Sudan</td>\n",
       "      <td>15.682580</td>\n",
       "    </tr>\n",
       "  </tbody>\n",
       "</table>\n",
       "</div>"
      ],
      "text/plain": [
       "       Country         PPP\n",
       "0        China   99.203980\n",
       "1       Mexico  203.199845\n",
       "2  South Sudan   15.682580"
      ]
     },
     "execution_count": 145,
     "metadata": {},
     "output_type": "execute_result"
    }
   ],
   "source": [
    "data_ppp = pd.read_csv('../src/ppp/ppp-gdp.csv')\n",
    "data_ppp_filtered = data_ppp.query('`Country` in @filter_country')\n",
    "df = data_ppp_filtered\n",
    "group_ppp = df.groupby('Country')['PPP'].sum()\n",
    "group_ppp = pd.DataFrame(data = group_ppp)\n",
    "group_ppp = group_ppp.reset_index()\n",
    "group_ppp"
   ]
  },
  {
   "cell_type": "code",
   "execution_count": 147,
   "id": "e9621427-452a-4e69-bb0b-f1f355d7df6f",
   "metadata": {
    "tags": []
   },
   "outputs": [
    {
     "data": {
      "text/html": [
       "<div>\n",
       "<style scoped>\n",
       "    .dataframe tbody tr th:only-of-type {\n",
       "        vertical-align: middle;\n",
       "    }\n",
       "\n",
       "    .dataframe tbody tr th {\n",
       "        vertical-align: top;\n",
       "    }\n",
       "\n",
       "    .dataframe thead th {\n",
       "        text-align: right;\n",
       "    }\n",
       "</style>\n",
       "<table border=\"1\" class=\"dataframe\">\n",
       "  <thead>\n",
       "    <tr style=\"text-align: right;\">\n",
       "      <th></th>\n",
       "      <th>Country</th>\n",
       "      <th>Population</th>\n",
       "      <th>PPP</th>\n",
       "    </tr>\n",
       "  </thead>\n",
       "  <tbody>\n",
       "    <tr>\n",
       "      <th>0</th>\n",
       "      <td>China</td>\n",
       "      <td>63874465000</td>\n",
       "      <td>99.203980</td>\n",
       "    </tr>\n",
       "    <tr>\n",
       "      <th>1</th>\n",
       "      <td>Mexico</td>\n",
       "      <td>4820436994</td>\n",
       "      <td>203.199845</td>\n",
       "    </tr>\n",
       "    <tr>\n",
       "      <th>2</th>\n",
       "      <td>South Sudan</td>\n",
       "      <td>343950195</td>\n",
       "      <td>15.682580</td>\n",
       "    </tr>\n",
       "  </tbody>\n",
       "</table>\n",
       "</div>"
      ],
      "text/plain": [
       "       Country   Population         PPP\n",
       "0        China  63874465000   99.203980\n",
       "1       Mexico   4820436994  203.199845\n",
       "2  South Sudan    343950195   15.682580"
      ]
     },
     "execution_count": 147,
     "metadata": {},
     "output_type": "execute_result"
    }
   ],
   "source": [
    "df_merged = pd.merge(group_population, group_ppp, left_on='Country', right_on='Country')\n",
    "df_merged"
   ]
  },
  {
   "attachments": {},
   "cell_type": "markdown",
   "id": "8c83a86e-ed85-4c1d-88ff-fc76634c205b",
   "metadata": {},
   "source": [
    "Кореляція стовпців **'Population'** та **'PPP'**."
   ]
  },
  {
   "cell_type": "code",
   "execution_count": 88,
   "id": "ccfdf247-3838-4876-bc57-efd30965b101",
   "metadata": {
    "tags": []
   },
   "outputs": [
    {
     "data": {
      "text/html": [
       "<div>\n",
       "<style scoped>\n",
       "    .dataframe tbody tr th:only-of-type {\n",
       "        vertical-align: middle;\n",
       "    }\n",
       "\n",
       "    .dataframe tbody tr th {\n",
       "        vertical-align: top;\n",
       "    }\n",
       "\n",
       "    .dataframe thead th {\n",
       "        text-align: right;\n",
       "    }\n",
       "</style>\n",
       "<table border=\"1\" class=\"dataframe\">\n",
       "  <thead>\n",
       "    <tr style=\"text-align: right;\">\n",
       "      <th></th>\n",
       "      <th>Population</th>\n",
       "      <th>PPP</th>\n",
       "    </tr>\n",
       "  </thead>\n",
       "  <tbody>\n",
       "    <tr>\n",
       "      <th>Population</th>\n",
       "      <td>1.00000</td>\n",
       "      <td>0.00021</td>\n",
       "    </tr>\n",
       "    <tr>\n",
       "      <th>PPP</th>\n",
       "      <td>0.00021</td>\n",
       "      <td>1.00000</td>\n",
       "    </tr>\n",
       "  </tbody>\n",
       "</table>\n",
       "</div>"
      ],
      "text/plain": [
       "            Population      PPP\n",
       "Population     1.00000  0.00021\n",
       "PPP            0.00021  1.00000"
      ]
     },
     "execution_count": 88,
     "metadata": {},
     "output_type": "execute_result"
    }
   ],
   "source": [
    "columns = ['Population', 'PPP']\n",
    "correlation_population_ppp =  df_merged[columns].corr() \n",
    "correlation_population_ppp"
   ]
  },
  {
   "cell_type": "code",
   "execution_count": 148,
   "id": "05e5c3f2-53c4-4aab-861e-f820ab3c2ca8",
   "metadata": {
    "tags": []
   },
   "outputs": [],
   "source": [
    "correlation_population_ppp.to_csv(\"./tables_and_graphs/correlation_population_ppp.csv\", index = True)\n",
    "correlation_population_ppp.to_excel(\"./tables_and_graphs/correlation_population_ppp.xlsx\", sheet_name=\"Sheet1\", index=False)\n",
    "correlation_population_ppp.to_json(path_or_buf=\"./tables_and_graphs/correlation_population_ppp.json\", orient=\"split\")"
   ]
  },
  {
   "attachments": {},
   "cell_type": "markdown",
   "id": "478724e6-cef3-491d-95ed-152a145bc8ec",
   "metadata": {},
   "source": [
    "4. #### Зв'язок популяції та цін на нафту"
   ]
  },
  {
   "cell_type": "code",
   "execution_count": 149,
   "id": "499b401b-80c6-4601-8c0d-bf9b3d0900fd",
   "metadata": {
    "tags": []
   },
   "outputs": [
    {
     "data": {
      "text/html": [
       "<div>\n",
       "<style scoped>\n",
       "    .dataframe tbody tr th:only-of-type {\n",
       "        vertical-align: middle;\n",
       "    }\n",
       "\n",
       "    .dataframe tbody tr th {\n",
       "        vertical-align: top;\n",
       "    }\n",
       "\n",
       "    .dataframe thead th {\n",
       "        text-align: right;\n",
       "    }\n",
       "</style>\n",
       "<table border=\"1\" class=\"dataframe\">\n",
       "  <thead>\n",
       "    <tr style=\"text-align: right;\">\n",
       "      <th></th>\n",
       "      <th>Year</th>\n",
       "      <th>Value</th>\n",
       "    </tr>\n",
       "  </thead>\n",
       "  <tbody>\n",
       "    <tr>\n",
       "      <th>0</th>\n",
       "      <td>1960</td>\n",
       "      <td>707684583</td>\n",
       "    </tr>\n",
       "    <tr>\n",
       "      <th>1</th>\n",
       "      <td>1961</td>\n",
       "      <td>702191661</td>\n",
       "    </tr>\n",
       "    <tr>\n",
       "      <th>2</th>\n",
       "      <td>1962</td>\n",
       "      <td>708916362</td>\n",
       "    </tr>\n",
       "  </tbody>\n",
       "</table>\n",
       "</div>"
      ],
      "text/plain": [
       "   Year      Value\n",
       "0  1960  707684583\n",
       "1  1961  702191661\n",
       "2  1962  708916362"
      ]
     },
     "metadata": {},
     "output_type": "display_data"
    },
    {
     "data": {
      "text/html": [
       "<div>\n",
       "<style scoped>\n",
       "    .dataframe tbody tr th:only-of-type {\n",
       "        vertical-align: middle;\n",
       "    }\n",
       "\n",
       "    .dataframe tbody tr th {\n",
       "        vertical-align: top;\n",
       "    }\n",
       "\n",
       "    .dataframe thead th {\n",
       "        text-align: right;\n",
       "    }\n",
       "</style>\n",
       "<table border=\"1\" class=\"dataframe\">\n",
       "  <thead>\n",
       "    <tr style=\"text-align: right;\">\n",
       "      <th></th>\n",
       "      <th>Year</th>\n",
       "      <th>Population</th>\n",
       "    </tr>\n",
       "  </thead>\n",
       "  <tbody>\n",
       "    <tr>\n",
       "      <th>0</th>\n",
       "      <td>1960</td>\n",
       "      <td>707684583</td>\n",
       "    </tr>\n",
       "    <tr>\n",
       "      <th>1</th>\n",
       "      <td>1961</td>\n",
       "      <td>702191661</td>\n",
       "    </tr>\n",
       "    <tr>\n",
       "      <th>2</th>\n",
       "      <td>1962</td>\n",
       "      <td>708916362</td>\n",
       "    </tr>\n",
       "  </tbody>\n",
       "</table>\n",
       "</div>"
      ],
      "text/plain": [
       "   Year  Population\n",
       "0  1960   707684583\n",
       "1  1961   702191661\n",
       "2  1962   708916362"
      ]
     },
     "metadata": {},
     "output_type": "display_data"
    }
   ],
   "source": [
    "data_population = pd.read_csv('../src/population/population.csv')\n",
    "data_population_filtered = data_population.query('`Country Name` in @filter_country')\n",
    "group_population = data_population_filtered.groupby('Year')['Value'].sum()\n",
    "group_population = pd.DataFrame(data = group_population)\n",
    "group_population = group_population.reset_index()\n",
    "display(group_population.head(3))\n",
    "\n",
    "group_population.rename(columns = {'Value':'Population'}, inplace = True)\n",
    "display(group_population.head(3))"
   ]
  },
  {
   "cell_type": "code",
   "execution_count": 92,
   "id": "49dd6371-7d1f-450d-b397-98e5f0a2791f",
   "metadata": {
    "tags": []
   },
   "outputs": [
    {
     "name": "stdout",
     "output_type": "stream",
     "text": [
      "The concatenation process in folder '../src/oil-prices' is complete.\n"
     ]
    },
    {
     "data": {
      "text/html": [
       "<div>\n",
       "<style scoped>\n",
       "    .dataframe tbody tr th:only-of-type {\n",
       "        vertical-align: middle;\n",
       "    }\n",
       "\n",
       "    .dataframe tbody tr th {\n",
       "        vertical-align: top;\n",
       "    }\n",
       "\n",
       "    .dataframe thead th {\n",
       "        text-align: right;\n",
       "    }\n",
       "</style>\n",
       "<table border=\"1\" class=\"dataframe\">\n",
       "  <thead>\n",
       "    <tr style=\"text-align: right;\">\n",
       "      <th></th>\n",
       "      <th>Date</th>\n",
       "      <th>Price</th>\n",
       "    </tr>\n",
       "  </thead>\n",
       "  <tbody>\n",
       "    <tr>\n",
       "      <th>0</th>\n",
       "      <td>1987-05-20</td>\n",
       "      <td>18.63</td>\n",
       "    </tr>\n",
       "    <tr>\n",
       "      <th>1</th>\n",
       "      <td>1987-05-21</td>\n",
       "      <td>18.45</td>\n",
       "    </tr>\n",
       "    <tr>\n",
       "      <th>2</th>\n",
       "      <td>1987-05-22</td>\n",
       "      <td>18.55</td>\n",
       "    </tr>\n",
       "  </tbody>\n",
       "</table>\n",
       "</div>"
      ],
      "text/plain": [
       "         Date  Price\n",
       "0  1987-05-20  18.63\n",
       "1  1987-05-21  18.45\n",
       "2  1987-05-22  18.55"
      ]
     },
     "execution_count": 92,
     "metadata": {},
     "output_type": "execute_result"
    }
   ],
   "source": [
    "data_oil = concat_files_oil(files_oil_csv)  \n",
    "data_oil.head(3)"
   ]
  },
  {
   "cell_type": "code",
   "execution_count": 93,
   "id": "6643c92a-fd43-4d89-981b-0fb6f5300d75",
   "metadata": {
    "tags": []
   },
   "outputs": [
    {
     "data": {
      "text/html": [
       "<div>\n",
       "<style scoped>\n",
       "    .dataframe tbody tr th:only-of-type {\n",
       "        vertical-align: middle;\n",
       "    }\n",
       "\n",
       "    .dataframe tbody tr th {\n",
       "        vertical-align: top;\n",
       "    }\n",
       "\n",
       "    .dataframe thead th {\n",
       "        text-align: right;\n",
       "    }\n",
       "</style>\n",
       "<table border=\"1\" class=\"dataframe\">\n",
       "  <thead>\n",
       "    <tr style=\"text-align: right;\">\n",
       "      <th></th>\n",
       "      <th>Year</th>\n",
       "      <th>Price of oil</th>\n",
       "    </tr>\n",
       "  </thead>\n",
       "  <tbody>\n",
       "    <tr>\n",
       "      <th>0</th>\n",
       "      <td>1986</td>\n",
       "      <td>4759.31</td>\n",
       "    </tr>\n",
       "    <tr>\n",
       "      <th>1</th>\n",
       "      <td>1987</td>\n",
       "      <td>9866.98</td>\n",
       "    </tr>\n",
       "    <tr>\n",
       "      <th>2</th>\n",
       "      <td>1988</td>\n",
       "      <td>9947.21</td>\n",
       "    </tr>\n",
       "  </tbody>\n",
       "</table>\n",
       "</div>"
      ],
      "text/plain": [
       "   Year  Price of oil\n",
       "0  1986       4759.31\n",
       "1  1987       9866.98\n",
       "2  1988       9947.21"
      ]
     },
     "execution_count": 93,
     "metadata": {},
     "output_type": "execute_result"
    }
   ],
   "source": [
    "grouped_oil = data_oil.groupby('Date')['Price'].sum()\n",
    "\n",
    "date_df = grouped_oil.index\n",
    "list_years = []\n",
    "for element in date_df:\n",
    "    list_years.append(int(element[:4]))\n",
    "    \n",
    "grouped_oil = pd.DataFrame(data=grouped_oil)\n",
    "grouped_oil[\"Year\"] = list_years\n",
    "grouped_oil = grouped_oil.reset_index()\n",
    "grouped_oil = grouped_oil.drop(['Date'], axis=1)\n",
    "\n",
    "grouped_oil = grouped_oil.groupby('Year')['Price'].sum()\n",
    "grouped_oil = pd.DataFrame(data=grouped_oil)\n",
    "grouped_oil = grouped_oil.reset_index()\n",
    "grouped_oil.rename(columns = {'Price':'Price of oil'}, inplace = True)\n",
    "grouped_oil.head(3)"
   ]
  },
  {
   "cell_type": "code",
   "execution_count": 94,
   "id": "3bee469a-d34e-46d4-91d0-1bdb86e79883",
   "metadata": {
    "tags": []
   },
   "outputs": [
    {
     "data": {
      "text/html": [
       "<div>\n",
       "<style scoped>\n",
       "    .dataframe tbody tr th:only-of-type {\n",
       "        vertical-align: middle;\n",
       "    }\n",
       "\n",
       "    .dataframe tbody tr th {\n",
       "        vertical-align: top;\n",
       "    }\n",
       "\n",
       "    .dataframe thead th {\n",
       "        text-align: right;\n",
       "    }\n",
       "</style>\n",
       "<table border=\"1\" class=\"dataframe\">\n",
       "  <thead>\n",
       "    <tr style=\"text-align: right;\">\n",
       "      <th></th>\n",
       "      <th>Year</th>\n",
       "      <th>Price of oil</th>\n",
       "      <th>Population</th>\n",
       "    </tr>\n",
       "  </thead>\n",
       "  <tbody>\n",
       "    <tr>\n",
       "      <th>0</th>\n",
       "      <td>1986</td>\n",
       "      <td>4759.31</td>\n",
       "      <td>1149717262</td>\n",
       "    </tr>\n",
       "    <tr>\n",
       "      <th>1</th>\n",
       "      <td>1987</td>\n",
       "      <td>9866.98</td>\n",
       "      <td>1168654890</td>\n",
       "    </tr>\n",
       "    <tr>\n",
       "      <th>2</th>\n",
       "      <td>1988</td>\n",
       "      <td>9947.21</td>\n",
       "      <td>1187904003</td>\n",
       "    </tr>\n",
       "  </tbody>\n",
       "</table>\n",
       "</div>"
      ],
      "text/plain": [
       "   Year  Price of oil  Population\n",
       "0  1986       4759.31  1149717262\n",
       "1  1987       9866.98  1168654890\n",
       "2  1988       9947.21  1187904003"
      ]
     },
     "execution_count": 94,
     "metadata": {},
     "output_type": "execute_result"
    }
   ],
   "source": [
    "df_merged = pd.merge(grouped_oil, group_population, left_on='Year', right_on='Year')\n",
    "df_merged.head(3)"
   ]
  },
  {
   "cell_type": "code",
   "execution_count": 96,
   "id": "cdee735e-9f45-41f6-8ccd-4d359f3d5436",
   "metadata": {
    "tags": []
   },
   "outputs": [
    {
     "data": {
      "text/html": [
       "<div>\n",
       "<style scoped>\n",
       "    .dataframe tbody tr th:only-of-type {\n",
       "        vertical-align: middle;\n",
       "    }\n",
       "\n",
       "    .dataframe tbody tr th {\n",
       "        vertical-align: top;\n",
       "    }\n",
       "\n",
       "    .dataframe thead th {\n",
       "        text-align: right;\n",
       "    }\n",
       "</style>\n",
       "<table border=\"1\" class=\"dataframe\">\n",
       "  <thead>\n",
       "    <tr style=\"text-align: right;\">\n",
       "      <th></th>\n",
       "      <th>Price of oil</th>\n",
       "      <th>Population</th>\n",
       "    </tr>\n",
       "  </thead>\n",
       "  <tbody>\n",
       "    <tr>\n",
       "      <th>Price of oil</th>\n",
       "      <td>1.000000</td>\n",
       "      <td>0.765326</td>\n",
       "    </tr>\n",
       "    <tr>\n",
       "      <th>Population</th>\n",
       "      <td>0.765326</td>\n",
       "      <td>1.000000</td>\n",
       "    </tr>\n",
       "  </tbody>\n",
       "</table>\n",
       "</div>"
      ],
      "text/plain": [
       "              Price of oil  Population\n",
       "Price of oil      1.000000    0.765326\n",
       "Population        0.765326    1.000000"
      ]
     },
     "execution_count": 96,
     "metadata": {},
     "output_type": "execute_result"
    }
   ],
   "source": [
    "columns = ['Price of oil', 'Population']\n",
    "correlation_population_oil =  df_merged[columns].corr()\n",
    "correlation_population_oil"
   ]
  },
  {
   "cell_type": "code",
   "execution_count": 150,
   "id": "6bcbecc2-6965-46da-8934-8d3dda95e414",
   "metadata": {
    "tags": []
   },
   "outputs": [],
   "source": [
    "correlation_population_oil.to_csv(\"./tables_and_graphs/correlation_population_oil.csv\", index = True)\n",
    "correlation_population_oil.to_excel(\"./tables_and_graphs/correlation_population_oil.xlsx\", sheet_name=\"Sheet1\", index=False)\n",
    "correlation_population_oil.to_json(path_or_buf=\"./tables_and_graphs/correlation_population_oil.json\", orient=\"split\")"
   ]
  }
 ],
 "metadata": {
  "kernelspec": {
   "display_name": "Python 3 (ipykernel)",
   "language": "python",
   "name": "python3"
  },
  "language_info": {
   "codemirror_mode": {
    "name": "ipython",
    "version": 3
   },
   "file_extension": ".py",
   "mimetype": "text/x-python",
   "name": "python",
   "nbconvert_exporter": "python",
   "pygments_lexer": "ipython3",
   "version": "3.11.4"
  }
 },
 "nbformat": 4,
 "nbformat_minor": 5
}
